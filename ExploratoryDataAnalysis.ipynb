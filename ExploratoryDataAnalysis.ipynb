{
 "cells": [
  {
   "cell_type": "markdown",
   "metadata": {},
   "source": [
    "# Titanic ML Competition"
   ]
  },
  {
   "cell_type": "markdown",
   "metadata": {},
   "source": [
    "## Introduction"
   ]
  },
  {
   "cell_type": "markdown",
   "metadata": {},
   "source": [
    "In this notebook we will be exploring the data for the Titanic machine learning competition from [Kaggle](https://www.kaggle.com/c/titanic/overview). The goals of the notebook are to:\n",
    "* Better understand the data.\n",
    "* See data relationships.\n",
    "* Determine if there are patterns within the data.\n",
    "* See what sorts of people were more likely to survive the disaster.\n",
    "\n",
    "After this, we will create ML models to make predictions.\n",
    "\n",
    "*Introduction from Kaggle*\n",
    "```\n",
    "The sinking of the Titanic is one of the most infamous shipwrecks in history.\n",
    "\n",
    "On April 15, 1912, during her maiden voyage, the widely considered “unsinkable” RMS Titanic sank after colliding with an iceberg. Unfortunately, there weren’t enough lifeboats for everyone onboard, resulting in the death of 1502 out of 2224 passengers and crew.\n",
    "\n",
    "While there was some element of luck involved in surviving, it seems some groups of people were more likely to survive than others.\n",
    "\n",
    "In this challenge, we ask you to build a predictive model that answers the question: “what sorts of people were more likely to survive?” using passenger data (ie name, age, gender, socio-economic class, etc).\n",
    "```\n",
    "<center>\n",
    "    <img src='https://miro.medium.com/max/2000/1*fBkTkunRJ88FdEXEcGU_fg.jpeg' heigh=400 width=400>\n",
    "</center>"
   ]
  },
  {
   "cell_type": "markdown",
   "metadata": {},
   "source": [
    "## Imports"
   ]
  },
  {
   "cell_type": "code",
   "execution_count": 1,
   "metadata": {},
   "outputs": [],
   "source": [
    "import pandas as pd\n",
    "import numpy as np\n",
    "import matplotlib.pyplot as plt\n",
    "import seaborn as sns\n",
    "import squarify"
   ]
  },
  {
   "cell_type": "code",
   "execution_count": 2,
   "metadata": {},
   "outputs": [],
   "source": [
    "from math import pi"
   ]
  },
  {
   "cell_type": "markdown",
   "metadata": {},
   "source": [
    "## Importing the dataset"
   ]
  },
  {
   "cell_type": "code",
   "execution_count": 3,
   "metadata": {},
   "outputs": [
    {
     "data": {
      "text/html": [
       "<div>\n",
       "<style scoped>\n",
       "    .dataframe tbody tr th:only-of-type {\n",
       "        vertical-align: middle;\n",
       "    }\n",
       "\n",
       "    .dataframe tbody tr th {\n",
       "        vertical-align: top;\n",
       "    }\n",
       "\n",
       "    .dataframe thead th {\n",
       "        text-align: right;\n",
       "    }\n",
       "</style>\n",
       "<table border=\"1\" class=\"dataframe\">\n",
       "  <thead>\n",
       "    <tr style=\"text-align: right;\">\n",
       "      <th></th>\n",
       "      <th>PassengerId</th>\n",
       "      <th>Survived</th>\n",
       "      <th>Pclass</th>\n",
       "      <th>Name</th>\n",
       "      <th>Sex</th>\n",
       "      <th>Age</th>\n",
       "      <th>SibSp</th>\n",
       "      <th>Parch</th>\n",
       "      <th>Ticket</th>\n",
       "      <th>Fare</th>\n",
       "      <th>Cabin</th>\n",
       "      <th>Embarked</th>\n",
       "    </tr>\n",
       "  </thead>\n",
       "  <tbody>\n",
       "    <tr>\n",
       "      <th>0</th>\n",
       "      <td>1</td>\n",
       "      <td>0</td>\n",
       "      <td>3</td>\n",
       "      <td>Braund, Mr. Owen Harris</td>\n",
       "      <td>male</td>\n",
       "      <td>22.0</td>\n",
       "      <td>1</td>\n",
       "      <td>0</td>\n",
       "      <td>A/5 21171</td>\n",
       "      <td>7.2500</td>\n",
       "      <td>NaN</td>\n",
       "      <td>S</td>\n",
       "    </tr>\n",
       "    <tr>\n",
       "      <th>1</th>\n",
       "      <td>2</td>\n",
       "      <td>1</td>\n",
       "      <td>1</td>\n",
       "      <td>Cumings, Mrs. John Bradley (Florence Briggs Th...</td>\n",
       "      <td>female</td>\n",
       "      <td>38.0</td>\n",
       "      <td>1</td>\n",
       "      <td>0</td>\n",
       "      <td>PC 17599</td>\n",
       "      <td>71.2833</td>\n",
       "      <td>C85</td>\n",
       "      <td>C</td>\n",
       "    </tr>\n",
       "    <tr>\n",
       "      <th>2</th>\n",
       "      <td>3</td>\n",
       "      <td>1</td>\n",
       "      <td>3</td>\n",
       "      <td>Heikkinen, Miss. Laina</td>\n",
       "      <td>female</td>\n",
       "      <td>26.0</td>\n",
       "      <td>0</td>\n",
       "      <td>0</td>\n",
       "      <td>STON/O2. 3101282</td>\n",
       "      <td>7.9250</td>\n",
       "      <td>NaN</td>\n",
       "      <td>S</td>\n",
       "    </tr>\n",
       "    <tr>\n",
       "      <th>3</th>\n",
       "      <td>4</td>\n",
       "      <td>1</td>\n",
       "      <td>1</td>\n",
       "      <td>Futrelle, Mrs. Jacques Heath (Lily May Peel)</td>\n",
       "      <td>female</td>\n",
       "      <td>35.0</td>\n",
       "      <td>1</td>\n",
       "      <td>0</td>\n",
       "      <td>113803</td>\n",
       "      <td>53.1000</td>\n",
       "      <td>C123</td>\n",
       "      <td>S</td>\n",
       "    </tr>\n",
       "    <tr>\n",
       "      <th>4</th>\n",
       "      <td>5</td>\n",
       "      <td>0</td>\n",
       "      <td>3</td>\n",
       "      <td>Allen, Mr. William Henry</td>\n",
       "      <td>male</td>\n",
       "      <td>35.0</td>\n",
       "      <td>0</td>\n",
       "      <td>0</td>\n",
       "      <td>373450</td>\n",
       "      <td>8.0500</td>\n",
       "      <td>NaN</td>\n",
       "      <td>S</td>\n",
       "    </tr>\n",
       "  </tbody>\n",
       "</table>\n",
       "</div>"
      ],
      "text/plain": [
       "   PassengerId  Survived  Pclass  \\\n",
       "0            1         0       3   \n",
       "1            2         1       1   \n",
       "2            3         1       3   \n",
       "3            4         1       1   \n",
       "4            5         0       3   \n",
       "\n",
       "                                                Name     Sex   Age  SibSp  \\\n",
       "0                            Braund, Mr. Owen Harris    male  22.0      1   \n",
       "1  Cumings, Mrs. John Bradley (Florence Briggs Th...  female  38.0      1   \n",
       "2                             Heikkinen, Miss. Laina  female  26.0      0   \n",
       "3       Futrelle, Mrs. Jacques Heath (Lily May Peel)  female  35.0      1   \n",
       "4                           Allen, Mr. William Henry    male  35.0      0   \n",
       "\n",
       "   Parch            Ticket     Fare Cabin Embarked  \n",
       "0      0         A/5 21171   7.2500   NaN        S  \n",
       "1      0          PC 17599  71.2833   C85        C  \n",
       "2      0  STON/O2. 3101282   7.9250   NaN        S  \n",
       "3      0            113803  53.1000  C123        S  \n",
       "4      0            373450   8.0500   NaN        S  "
      ]
     },
     "execution_count": 3,
     "metadata": {},
     "output_type": "execute_result"
    }
   ],
   "source": [
    "titanic_df = pd.read_csv(\"Datasets/train.csv\")\n",
    "titanic_df.head()"
   ]
  },
  {
   "cell_type": "code",
   "execution_count": 4,
   "metadata": {},
   "outputs": [
    {
     "name": "stdout",
     "output_type": "stream",
     "text": [
      "<class 'pandas.core.frame.DataFrame'>\n",
      "RangeIndex: 891 entries, 0 to 890\n",
      "Data columns (total 12 columns):\n",
      " #   Column       Non-Null Count  Dtype  \n",
      "---  ------       --------------  -----  \n",
      " 0   PassengerId  891 non-null    int64  \n",
      " 1   Survived     891 non-null    int64  \n",
      " 2   Pclass       891 non-null    int64  \n",
      " 3   Name         891 non-null    object \n",
      " 4   Sex          891 non-null    object \n",
      " 5   Age          714 non-null    float64\n",
      " 6   SibSp        891 non-null    int64  \n",
      " 7   Parch        891 non-null    int64  \n",
      " 8   Ticket       891 non-null    object \n",
      " 9   Fare         891 non-null    float64\n",
      " 10  Cabin        204 non-null    object \n",
      " 11  Embarked     889 non-null    object \n",
      "dtypes: float64(2), int64(5), object(5)\n",
      "memory usage: 83.7+ KB\n"
     ]
    }
   ],
   "source": [
    "titanic_df.info()"
   ]
  },
  {
   "cell_type": "markdown",
   "metadata": {},
   "source": [
    "From the table above we can see the different data types that pandas assigned each column and that we have some columns with missing values. Before starting to work with these, we have to clean the data. "
   ]
  },
  {
   "cell_type": "code",
   "execution_count": 5,
   "metadata": {},
   "outputs": [
    {
     "data": {
      "text/plain": [
       "PassengerId      0\n",
       "Survived         0\n",
       "Pclass           0\n",
       "Name             0\n",
       "Sex              0\n",
       "Age            177\n",
       "SibSp            0\n",
       "Parch            0\n",
       "Ticket           0\n",
       "Fare             0\n",
       "Cabin          687\n",
       "Embarked         2\n",
       "dtype: int64"
      ]
     },
     "execution_count": 5,
     "metadata": {},
     "output_type": "execute_result"
    }
   ],
   "source": [
    "titanic_df.isnull().sum()"
   ]
  },
  {
   "cell_type": "markdown",
   "metadata": {},
   "source": [
    "### Renaming of the columns & changing index"
   ]
  },
  {
   "cell_type": "markdown",
   "metadata": {},
   "source": [
    "Here we change some of the names of the columns that doesn't sound that meaningful. (For instance SibSp or Parch). Also we make the index the passenger id, as it makes more sense there."
   ]
  },
  {
   "cell_type": "code",
   "execution_count": 6,
   "metadata": {},
   "outputs": [],
   "source": [
    "renamed_columns = {\"Pclass\":\"Economic status\",\"SibSp\":\"Number of siblings/spouses\",\"Parch\":\"Number of parents/children\"}\n",
    "titanic_df.rename(columns=renamed_columns,inplace = True)"
   ]
  },
  {
   "cell_type": "code",
   "execution_count": 7,
   "metadata": {},
   "outputs": [],
   "source": [
    "titanic_df.set_index(titanic_df[\"PassengerId\"],inplace = True)\n",
    "titanic_df.drop(columns=\"PassengerId\",inplace=True)"
   ]
  },
  {
   "cell_type": "markdown",
   "metadata": {},
   "source": [
    "### Data types"
   ]
  },
  {
   "cell_type": "markdown",
   "metadata": {},
   "source": [
    "Now we will convert some columns to more appropriate data type, which will make things easier to work later. Additionally, this reduces the memory usage of the dataset."
   ]
  },
  {
   "cell_type": "markdown",
   "metadata": {},
   "source": [
    "The columns with object data type are candidates to be of categorical type. For this we check the cardinality they have."
   ]
  },
  {
   "cell_type": "code",
   "execution_count": 8,
   "metadata": {},
   "outputs": [
    {
     "data": {
      "text/plain": [
       "Name        891\n",
       "Sex           2\n",
       "Ticket      681\n",
       "Cabin       147\n",
       "Embarked      3\n",
       "dtype: int64"
      ]
     },
     "execution_count": 8,
     "metadata": {},
     "output_type": "execute_result"
    }
   ],
   "source": [
    "titanic_df.select_dtypes(include=['object']).nunique()"
   ]
  },
  {
   "cell_type": "code",
   "execution_count": 9,
   "metadata": {},
   "outputs": [],
   "source": [
    "titanic_df[\"Sex\"] = titanic_df[\"Sex\"].astype(\"category\")\n",
    "titanic_df[\"Embarked\"] = titanic_df[\"Embarked\"].astype(\"category\")"
   ]
  },
  {
   "cell_type": "markdown",
   "metadata": {},
   "source": [
    "Other column that could be categorical is the one representing the economic status."
   ]
  },
  {
   "cell_type": "code",
   "execution_count": 10,
   "metadata": {},
   "outputs": [],
   "source": [
    "titanic_df[\"Economic status\"] = titanic_df[\"Economic status\"].astype(\"category\")"
   ]
  },
  {
   "cell_type": "markdown",
   "metadata": {},
   "source": [
    "Not always is about converting columns to categorical data types, we can also convert numerical types that use 64 bits to smaller sizes (such as 8 bits, 16, 32). By doing this we can reduce even further the memory usage of the dataset."
   ]
  },
  {
   "cell_type": "markdown",
   "metadata": {},
   "source": [
    "Before converting SibSp/Parch to a an integer of smaller size, we have to check the maximum number they have. *(Max int of int8:127(signed))*"
   ]
  },
  {
   "cell_type": "code",
   "execution_count": 11,
   "metadata": {},
   "outputs": [
    {
     "data": {
      "text/plain": [
       "Number of siblings/spouses    8\n",
       "Number of parents/children    6\n",
       "dtype: int64"
      ]
     },
     "execution_count": 11,
     "metadata": {},
     "output_type": "execute_result"
    }
   ],
   "source": [
    "titanic_df[[\"Number of siblings/spouses\",\"Number of parents/children\"]].max()"
   ]
  },
  {
   "cell_type": "markdown",
   "metadata": {},
   "source": [
    "As there is no problem we can make the conversions."
   ]
  },
  {
   "cell_type": "code",
   "execution_count": 12,
   "metadata": {},
   "outputs": [],
   "source": [
    "titanic_df[\"Number of siblings/spouses\"] = titanic_df[\"Number of siblings/spouses\"].astype(\"int8\")\n",
    "titanic_df[\"Number of parents/children\"] = titanic_df[\"Number of parents/children\"].astype(\"int8\")"
   ]
  },
  {
   "cell_type": "code",
   "execution_count": 13,
   "metadata": {},
   "outputs": [],
   "source": [
    "titanic_df[\"Survived\"] = titanic_df[\"Survived\"].astype(\"int8\")"
   ]
  },
  {
   "cell_type": "markdown",
   "metadata": {},
   "source": [
    "### Missing values"
   ]
  },
  {
   "cell_type": "markdown",
   "metadata": {},
   "source": [
    "This is one of the most important things to do in data analysis. It will be mainly develop on the different preprocessings to the data for the models. Now we are just going to fill the missing values from the `cabin` column with `-`."
   ]
  },
  {
   "cell_type": "code",
   "execution_count": 14,
   "metadata": {},
   "outputs": [],
   "source": [
    "titanic_df[\"Cabin\"].fillna(\"-\",inplace=True)"
   ]
  },
  {
   "cell_type": "markdown",
   "metadata": {},
   "source": [
    "### Data conversions"
   ]
  },
  {
   "cell_type": "markdown",
   "metadata": {},
   "source": [
    "Here we change some of the texts the data has, so that they are more meaningful."
   ]
  },
  {
   "cell_type": "code",
   "execution_count": 15,
   "metadata": {},
   "outputs": [],
   "source": [
    "new_economic_status_names = {1:\"Upper\",2:\"Middle\",3:\"Lower\"}\n",
    "titanic_df[\"Economic status\"].cat.rename_categories(new_economic_status_names,inplace=True)"
   ]
  },
  {
   "cell_type": "code",
   "execution_count": 16,
   "metadata": {},
   "outputs": [],
   "source": [
    "new_port_names = {\"C\":\"Cherbourg\",\"Q\":\"Queenstown\",\"S\":\"Southhampton\"}\n",
    "titanic_df[\"Embarked\"].cat.rename_categories(new_port_names,inplace = True)"
   ]
  },
  {
   "cell_type": "code",
   "execution_count": 17,
   "metadata": {},
   "outputs": [],
   "source": [
    "new_sex = {\"male\":\"Male\",\"female\":\"Female\"}\n",
    "titanic_df[\"Sex\"].cat.rename_categories(new_sex,inplace = True)"
   ]
  },
  {
   "cell_type": "markdown",
   "metadata": {},
   "source": [
    "### Reordering columns"
   ]
  },
  {
   "cell_type": "markdown",
   "metadata": {},
   "source": [
    "Finally, we order the dataset in a more relevant way."
   ]
  },
  {
   "cell_type": "code",
   "execution_count": 18,
   "metadata": {},
   "outputs": [],
   "source": [
    "personal_info = [\"Name\",\"Sex\",\"Age\"]\n",
    "economic_status = [\"Economic status\",\"Fare\"]\n",
    "family = [\"Number of siblings/spouses\",\"Number of parents/children\"]\n",
    "journey = [\"Cabin\",\"Embarked\",\"Ticket\",\"Survived\"]\n",
    "new_order = personal_info + economic_status + family + journey\n",
    "titanic_df = titanic_df.reindex(columns = new_order)"
   ]
  },
  {
   "cell_type": "markdown",
   "metadata": {},
   "source": [
    "### Dataset after handling it"
   ]
  },
  {
   "cell_type": "code",
   "execution_count": 19,
   "metadata": {},
   "outputs": [
    {
     "name": "stdout",
     "output_type": "stream",
     "text": [
      "<class 'pandas.core.frame.DataFrame'>\n",
      "Int64Index: 891 entries, 1 to 891\n",
      "Data columns (total 11 columns):\n",
      " #   Column                      Non-Null Count  Dtype   \n",
      "---  ------                      --------------  -----   \n",
      " 0   Name                        891 non-null    object  \n",
      " 1   Sex                         891 non-null    category\n",
      " 2   Age                         714 non-null    float64 \n",
      " 3   Economic status             891 non-null    category\n",
      " 4   Fare                        891 non-null    float64 \n",
      " 5   Number of siblings/spouses  891 non-null    int8    \n",
      " 6   Number of parents/children  891 non-null    int8    \n",
      " 7   Cabin                       891 non-null    object  \n",
      " 8   Embarked                    889 non-null    category\n",
      " 9   Ticket                      891 non-null    object  \n",
      " 10  Survived                    891 non-null    int8    \n",
      "dtypes: category(3), float64(2), int8(3), object(3)\n",
      "memory usage: 47.3+ KB\n"
     ]
    }
   ],
   "source": [
    "titanic_df.info()"
   ]
  },
  {
   "cell_type": "markdown",
   "metadata": {},
   "source": [
    "Here we can see that the memory usage was reduced by approximately ~35KB."
   ]
  },
  {
   "cell_type": "code",
   "execution_count": 20,
   "metadata": {},
   "outputs": [
    {
     "data": {
      "text/html": [
       "<div>\n",
       "<style scoped>\n",
       "    .dataframe tbody tr th:only-of-type {\n",
       "        vertical-align: middle;\n",
       "    }\n",
       "\n",
       "    .dataframe tbody tr th {\n",
       "        vertical-align: top;\n",
       "    }\n",
       "\n",
       "    .dataframe thead th {\n",
       "        text-align: right;\n",
       "    }\n",
       "</style>\n",
       "<table border=\"1\" class=\"dataframe\">\n",
       "  <thead>\n",
       "    <tr style=\"text-align: right;\">\n",
       "      <th></th>\n",
       "      <th>Name</th>\n",
       "      <th>Sex</th>\n",
       "      <th>Age</th>\n",
       "      <th>Economic status</th>\n",
       "      <th>Fare</th>\n",
       "      <th>Number of siblings/spouses</th>\n",
       "      <th>Number of parents/children</th>\n",
       "      <th>Cabin</th>\n",
       "      <th>Embarked</th>\n",
       "      <th>Ticket</th>\n",
       "      <th>Survived</th>\n",
       "    </tr>\n",
       "    <tr>\n",
       "      <th>PassengerId</th>\n",
       "      <th></th>\n",
       "      <th></th>\n",
       "      <th></th>\n",
       "      <th></th>\n",
       "      <th></th>\n",
       "      <th></th>\n",
       "      <th></th>\n",
       "      <th></th>\n",
       "      <th></th>\n",
       "      <th></th>\n",
       "      <th></th>\n",
       "    </tr>\n",
       "  </thead>\n",
       "  <tbody>\n",
       "    <tr>\n",
       "      <th>1</th>\n",
       "      <td>Braund, Mr. Owen Harris</td>\n",
       "      <td>Male</td>\n",
       "      <td>22.0</td>\n",
       "      <td>Lower</td>\n",
       "      <td>7.2500</td>\n",
       "      <td>1</td>\n",
       "      <td>0</td>\n",
       "      <td>-</td>\n",
       "      <td>Southhampton</td>\n",
       "      <td>A/5 21171</td>\n",
       "      <td>0</td>\n",
       "    </tr>\n",
       "    <tr>\n",
       "      <th>2</th>\n",
       "      <td>Cumings, Mrs. John Bradley (Florence Briggs Th...</td>\n",
       "      <td>Female</td>\n",
       "      <td>38.0</td>\n",
       "      <td>Upper</td>\n",
       "      <td>71.2833</td>\n",
       "      <td>1</td>\n",
       "      <td>0</td>\n",
       "      <td>C85</td>\n",
       "      <td>Cherbourg</td>\n",
       "      <td>PC 17599</td>\n",
       "      <td>1</td>\n",
       "    </tr>\n",
       "    <tr>\n",
       "      <th>3</th>\n",
       "      <td>Heikkinen, Miss. Laina</td>\n",
       "      <td>Female</td>\n",
       "      <td>26.0</td>\n",
       "      <td>Lower</td>\n",
       "      <td>7.9250</td>\n",
       "      <td>0</td>\n",
       "      <td>0</td>\n",
       "      <td>-</td>\n",
       "      <td>Southhampton</td>\n",
       "      <td>STON/O2. 3101282</td>\n",
       "      <td>1</td>\n",
       "    </tr>\n",
       "    <tr>\n",
       "      <th>4</th>\n",
       "      <td>Futrelle, Mrs. Jacques Heath (Lily May Peel)</td>\n",
       "      <td>Female</td>\n",
       "      <td>35.0</td>\n",
       "      <td>Upper</td>\n",
       "      <td>53.1000</td>\n",
       "      <td>1</td>\n",
       "      <td>0</td>\n",
       "      <td>C123</td>\n",
       "      <td>Southhampton</td>\n",
       "      <td>113803</td>\n",
       "      <td>1</td>\n",
       "    </tr>\n",
       "    <tr>\n",
       "      <th>5</th>\n",
       "      <td>Allen, Mr. William Henry</td>\n",
       "      <td>Male</td>\n",
       "      <td>35.0</td>\n",
       "      <td>Lower</td>\n",
       "      <td>8.0500</td>\n",
       "      <td>0</td>\n",
       "      <td>0</td>\n",
       "      <td>-</td>\n",
       "      <td>Southhampton</td>\n",
       "      <td>373450</td>\n",
       "      <td>0</td>\n",
       "    </tr>\n",
       "  </tbody>\n",
       "</table>\n",
       "</div>"
      ],
      "text/plain": [
       "                                                          Name     Sex   Age  \\\n",
       "PassengerId                                                                    \n",
       "1                                      Braund, Mr. Owen Harris    Male  22.0   \n",
       "2            Cumings, Mrs. John Bradley (Florence Briggs Th...  Female  38.0   \n",
       "3                                       Heikkinen, Miss. Laina  Female  26.0   \n",
       "4                 Futrelle, Mrs. Jacques Heath (Lily May Peel)  Female  35.0   \n",
       "5                                     Allen, Mr. William Henry    Male  35.0   \n",
       "\n",
       "            Economic status     Fare  Number of siblings/spouses  \\\n",
       "PassengerId                                                        \n",
       "1                     Lower   7.2500                           1   \n",
       "2                     Upper  71.2833                           1   \n",
       "3                     Lower   7.9250                           0   \n",
       "4                     Upper  53.1000                           1   \n",
       "5                     Lower   8.0500                           0   \n",
       "\n",
       "             Number of parents/children Cabin      Embarked            Ticket  \\\n",
       "PassengerId                                                                     \n",
       "1                                     0     -  Southhampton         A/5 21171   \n",
       "2                                     0   C85     Cherbourg          PC 17599   \n",
       "3                                     0     -  Southhampton  STON/O2. 3101282   \n",
       "4                                     0  C123  Southhampton            113803   \n",
       "5                                     0     -  Southhampton            373450   \n",
       "\n",
       "             Survived  \n",
       "PassengerId            \n",
       "1                   0  \n",
       "2                   1  \n",
       "3                   1  \n",
       "4                   1  \n",
       "5                   0  "
      ]
     },
     "execution_count": 20,
     "metadata": {},
     "output_type": "execute_result"
    }
   ],
   "source": [
    "titanic_df.head()"
   ]
  },
  {
   "cell_type": "markdown",
   "metadata": {},
   "source": [
    "## Exploratory Data Analysis"
   ]
  },
  {
   "cell_type": "markdown",
   "metadata": {},
   "source": [
    "First, let's start by asking some simple questions that will get us closer to the question that matters. What sorts of people were more likely to survive?\n",
    "* How many survived?\n",
    "* How much does the sex determine the chances of survival?\n",
    "* What about the age?\n",
    "* Does the economic status helps to determine it?"
   ]
  },
  {
   "cell_type": "markdown",
   "metadata": {},
   "source": [
    "### How many survived the disaster?"
   ]
  },
  {
   "cell_type": "code",
   "execution_count": 21,
   "metadata": {},
   "outputs": [
    {
     "data": {
      "image/png": "[encoded data removed]",
      "text/plain": [
       "<Figure size 1000x500 with 2 Axes>"
      ]
     },
     "metadata": {
      "needs_background": "light"
     },
     "output_type": "display_data"
    }
   ],
   "source": [
    "survival_values = titanic_df['Survived'].value_counts()\n",
    "names = ['Died',\"Survived\"]\n",
    "plt.figure(figsize=(10, 5), dpi=100)\n",
    " \n",
    "plt.subplot2grid(shape=(1,2),loc=(0,0))\n",
    "plt.bar(x=survival_values.index,height=survival_values.values,color=['lightcoral', 'lightgreen'])\n",
    "plt.xticks(survival_values.index,names)\n",
    "plt.title(\"Amount of people that survived\")\n",
    "\n",
    "plt.subplot2grid(shape=(1,2),loc=(0,1))\n",
    "plt.pie(survival_values, labels=names,colors=['lightcoral', 'lightgreen'], autopct='%1.0f%%')\n",
    "plt.title(\"Proportion of people that survived\")\n",
    "\n",
    "plt.suptitle('Survival numbers')\n",
    "plt.show()"
   ]
  },
  {
   "cell_type": "markdown",
   "metadata": {},
   "source": [
    "We can see that approximately 40% of the passengers survived."
   ]
  },
  {
   "cell_type": "markdown",
   "metadata": {},
   "source": [
    "### How much does the sex affect the chances of survival?"
   ]
  },
  {
   "cell_type": "markdown",
   "metadata": {},
   "source": [
    "Let's begin by seeing the proportions of the passengers."
   ]
  },
  {
   "cell_type": "code",
   "execution_count": 22,
   "metadata": {},
   "outputs": [
    {
     "data": {
      "image/png": "[encoded data removed]",
      "text/plain": [
       "<Figure size 480x320 with 1 Axes>"
      ]
     },
     "metadata": {},
     "output_type": "display_data"
    }
   ],
   "source": [
    "sex_proportions = titanic_df[\"Sex\"].value_counts()\n",
    "circle=plt.Circle( (0,0), 0.7, color='white')\n",
    "plt.figure(dpi=80)\n",
    "plt.pie(sex_proportions.values, labels=sex_proportions.index, colors=['goldenrod','salmon'],autopct='%1.0f%%')\n",
    "p=plt.gcf()\n",
    "p.gca().add_artist(circle)\n",
    "plt.suptitle('Proportion of passengers')\n",
    "plt.show()"
   ]
  },
  {
   "cell_type": "markdown",
   "metadata": {},
   "source": [
    "Now let's see the survival rate."
   ]
  },
  {
   "cell_type": "code",
   "execution_count": 23,
   "metadata": {},
   "outputs": [
    {
     "data": {
      "text/plain": [
       "Sex\n",
       "Female    0.742038\n",
       "Male      0.188908\n",
       "Name: Survived, dtype: float64"
      ]
     },
     "execution_count": 23,
     "metadata": {},
     "output_type": "execute_result"
    }
   ],
   "source": [
    "survival_by_sex = titanic_df.groupby(by=\"Sex\")[\"Survived\"].agg(\"mean\")\n",
    "survival_by_sex"
   ]
  },
  {
   "cell_type": "code",
   "execution_count": 24,
   "metadata": {},
   "outputs": [
    {
     "data": {
      "text/plain": [
       "Text(0.5, 1.0, 'Proportions of people that survived by sex')"
      ]
     },
     "execution_count": 24,
     "metadata": {},
     "output_type": "execute_result"
    },
    {
     "data": {
      "image/png": "[encoded data removed]",
      "text/plain": [
       "<Figure size 400x400 with 1 Axes>"
      ]
     },
     "metadata": {
      "needs_background": "light"
     },
     "output_type": "display_data"
    }
   ],
   "source": [
    "plt.figure(figsize=(4, 4), dpi=100)\n",
    "plt.bar(x=survival_by_sex.index,height=survival_by_sex.values,color=['palevioletred', 'cadetblue'])\n",
    "plt.ylim(top=1)\n",
    "plt.title(\"Proportions of people that survived by sex\")"
   ]
  },
  {
   "cell_type": "markdown",
   "metadata": {},
   "source": [
    "We can clearly see that women proportionally had a greater survival rate than men."
   ]
  },
  {
   "cell_type": "markdown",
   "metadata": {},
   "source": [
    "### What about the age?"
   ]
  },
  {
   "cell_type": "markdown",
   "metadata": {},
   "source": [
    "Can we see a pattern by exploring the age? Let's try to see if the children were more likely to survive."
   ]
  },
  {
   "cell_type": "code",
   "execution_count": 25,
   "metadata": {},
   "outputs": [
    {
     "data": {
      "image/png": "[encoded data removed]",
      "text/plain": [
       "<Figure size 432x288 with 1 Axes>"
      ]
     },
     "metadata": {
      "needs_background": "light"
     },
     "output_type": "display_data"
    }
   ],
   "source": [
    "sns.distplot( a=titanic_df[\"Age\"], hist=True, kde=False, rug=False )\n",
    "plt.title(\"Age distribution\")\n",
    "plt.show()"
   ]
  },
  {
   "cell_type": "markdown",
   "metadata": {},
   "source": [
    "We can see that the main group of people that was on the ship were adults, followed by children and then by old people."
   ]
  },
  {
   "cell_type": "code",
   "execution_count": 77,
   "metadata": {},
   "outputs": [
    {
     "data": {
      "image/png": "[encoded data removed]",
      "text/plain": [
       "<Figure size 1500x500 with 2 Axes>"
      ]
     },
     "metadata": {
      "needs_background": "light"
     },
     "output_type": "display_data"
    }
   ],
   "source": [
    "plt.figure(figsize=(15, 5), dpi=100)\n",
    "titanic_df[\"Discrete age\"] = pd.cut(titanic_df[\"Age\"],bins=range(0,85,5))\n",
    "plt.subplot2grid(shape=(1,2),loc=(0,0))\n",
    "g = sns.barplot('Discrete age','Survived', data=titanic_df)\n",
    "g.tick_params('x',labelrotation=35)\n",
    "plt.title(\"Survival by grouped ages\")\n",
    "    \n",
    "plt.subplot2grid(shape=(1,2),loc=(0,1))\n",
    "sns.violinplot(x=titanic_df[\"Survived\"], y=titanic_df[\"Age\"])\n",
    "plt.title(\"Age distribution and survival\")\n",
    " \n",
    "plt.show()"
   ]
  },
  {
   "cell_type": "markdown",
   "metadata": {},
   "source": [
    "Here we can see that children were more likely to survive in both graphs."
   ]
  },
  {
   "cell_type": "code",
   "execution_count": 27,
   "metadata": {},
   "outputs": [],
   "source": [
    "children = titanic_df[\"Age\"] < 13\n",
    "survived = titanic_df[\"Survived\"] == 1\n",
    "survived_age = titanic_df.loc[survived & children,\"Age\"]\n",
    "died_age = titanic_df.loc[(~survived) & children,\"Age\"]"
   ]
  },
  {
   "cell_type": "code",
   "execution_count": 28,
   "metadata": {},
   "outputs": [
    {
     "data": {
      "text/plain": [
       "40"
      ]
     },
     "execution_count": 28,
     "metadata": {},
     "output_type": "execute_result"
    }
   ],
   "source": [
    "survived_age.count()"
   ]
  },
  {
   "cell_type": "code",
   "execution_count": 29,
   "metadata": {},
   "outputs": [
    {
     "data": {
      "text/plain": [
       "29"
      ]
     },
     "execution_count": 29,
     "metadata": {},
     "output_type": "execute_result"
    }
   ],
   "source": [
    "died_age.count()"
   ]
  },
  {
   "cell_type": "markdown",
   "metadata": {},
   "source": [
    "### Does the economic status helps to determine it?"
   ]
  },
  {
   "cell_type": "code",
   "execution_count": 30,
   "metadata": {},
   "outputs": [],
   "source": [
    "total_class_members = titanic_df[\"Economic status\"].value_counts(normalize=True).round(2)"
   ]
  },
  {
   "cell_type": "code",
   "execution_count": 31,
   "metadata": {},
   "outputs": [],
   "source": [
    "survival_by_status = titanic_df.groupby(by=\"Economic status\")[\"Survived\"].value_counts(normalize=True).round(2)\n",
    "survival_by_status = survival_by_status.unstack().reset_index()\n",
    "survival_by_status.index = survival_by_status[\"Economic status\"]\n",
    "survival_by_status = survival_by_status.drop(columns=\"Economic status\")"
   ]
  },
  {
   "cell_type": "code",
   "execution_count": 32,
   "metadata": {},
   "outputs": [
    {
     "data": {
      "text/html": [
       "<div>\n",
       "<style scoped>\n",
       "    .dataframe tbody tr th:only-of-type {\n",
       "        vertical-align: middle;\n",
       "    }\n",
       "\n",
       "    .dataframe tbody tr th {\n",
       "        vertical-align: top;\n",
       "    }\n",
       "\n",
       "    .dataframe thead th {\n",
       "        text-align: right;\n",
       "    }\n",
       "</style>\n",
       "<table border=\"1\" class=\"dataframe\">\n",
       "  <thead>\n",
       "    <tr style=\"text-align: right;\">\n",
       "      <th></th>\n",
       "      <th>Died</th>\n",
       "      <th>Survived</th>\n",
       "    </tr>\n",
       "    <tr>\n",
       "      <th>Economic status</th>\n",
       "      <th></th>\n",
       "      <th></th>\n",
       "    </tr>\n",
       "  </thead>\n",
       "  <tbody>\n",
       "    <tr>\n",
       "      <th>Upper</th>\n",
       "      <td>0.37</td>\n",
       "      <td>0.63</td>\n",
       "    </tr>\n",
       "    <tr>\n",
       "      <th>Middle</th>\n",
       "      <td>0.53</td>\n",
       "      <td>0.47</td>\n",
       "    </tr>\n",
       "    <tr>\n",
       "      <th>Lower</th>\n",
       "      <td>0.76</td>\n",
       "      <td>0.24</td>\n",
       "    </tr>\n",
       "  </tbody>\n",
       "</table>\n",
       "</div>"
      ],
      "text/plain": [
       "                 Died  Survived\n",
       "Economic status                \n",
       "Upper            0.37      0.63\n",
       "Middle           0.53      0.47\n",
       "Lower            0.76      0.24"
      ]
     },
     "execution_count": 32,
     "metadata": {},
     "output_type": "execute_result"
    }
   ],
   "source": [
    "renamed_columns = {0:\"Died\",1:\"Survived\"}\n",
    "survival_by_status = survival_by_status.rename(columns=renamed_columns)\n",
    "survival_by_status.columns.name = None\n",
    "survival_by_status"
   ]
  },
  {
   "cell_type": "code",
   "execution_count": 33,
   "metadata": {},
   "outputs": [
    {
     "data": {
      "image/png": "[encoded data removed]",
      "text/plain": [
       "<Figure size 1000x500 with 2 Axes>"
      ]
     },
     "metadata": {
      "needs_background": "light"
     },
     "output_type": "display_data"
    }
   ],
   "source": [
    "plt.figure(figsize=(10, 5), dpi=100)\n",
    " \n",
    "plt.subplot2grid(shape=(1,2),loc=(0,0))\n",
    "squarify.plot(sizes=total_class_members,value=total_class_members, label=total_class_members.index, alpha=.8,color=['sienna', 'gold','lawngreen'])\n",
    "plt.axis('off')  \n",
    "plt.title(\"% of people according to economic status\")   \n",
    "    \n",
    "plt.subplot2grid(shape=(1,2),loc=(0,1))\n",
    "plt.bar(x=survival_by_status.index,height=survival_by_status[\"Survived\"].values,color=['gold', 'lawngreen','sienna'])\n",
    "plt.ylim(top=1)\n",
    "plt.title(\"% of people that survived by class\")\n",
    "\n",
    "plt.show()"
   ]
  },
  {
   "cell_type": "markdown",
   "metadata": {},
   "source": [
    "On the graphs we can see that people from lower class were more likely to die than from upper class."
   ]
  },
  {
   "cell_type": "markdown",
   "metadata": {},
   "source": [
    "### What happened to the families?"
   ]
  },
  {
   "cell_type": "markdown",
   "metadata": {},
   "source": [
    "Here we will see if people with families had more chances of survival.\n",
    "\n",
    "The dataset includes 2 attributes which count the number of members of each group.\n",
    "* Number of siblings/spouses (sibsp):\n",
    "    * Sibling = brother, sister, stepbrother, stepsister\n",
    "    * Spouse = husband, wife (mistresses and fiancés were ignored)\n",
    "\n",
    "* Number of parents/children (parch):\n",
    "    * Parent = mother, father\n",
    "    * Child = daughter, son, stepdaughter, stepson\n",
    "    \n",
    "*Note: Some children travelled only with a nanny, therefore parch=0 for them.*"
   ]
  },
  {
   "cell_type": "code",
   "execution_count": 34,
   "metadata": {},
   "outputs": [
    {
     "data": {
      "text/plain": [
       "0    608\n",
       "1    209\n",
       "2     28\n",
       "4     18\n",
       "3     16\n",
       "8      7\n",
       "5      5\n",
       "Name: Number of siblings/spouses, dtype: int64"
      ]
     },
     "execution_count": 34,
     "metadata": {},
     "output_type": "execute_result"
    }
   ],
   "source": [
    "titanic_df[\"Number of siblings/spouses\"].value_counts()"
   ]
  },
  {
   "cell_type": "code",
   "execution_count": 35,
   "metadata": {},
   "outputs": [
    {
     "data": {
      "text/plain": [
       "0    678\n",
       "1    118\n",
       "2     80\n",
       "5      5\n",
       "3      5\n",
       "4      4\n",
       "6      1\n",
       "Name: Number of parents/children, dtype: int64"
      ]
     },
     "execution_count": 35,
     "metadata": {},
     "output_type": "execute_result"
    }
   ],
   "source": [
    "titanic_df[\"Number of parents/children\"].value_counts()"
   ]
  },
  {
   "cell_type": "markdown",
   "metadata": {},
   "source": [
    "We can see that the majority of the passengers traveled alone."
   ]
  },
  {
   "cell_type": "code",
   "execution_count": 36,
   "metadata": {},
   "outputs": [
    {
     "data": {
      "text/html": [
       "<div>\n",
       "<style scoped>\n",
       "    .dataframe tbody tr th:only-of-type {\n",
       "        vertical-align: middle;\n",
       "    }\n",
       "\n",
       "    .dataframe tbody tr th {\n",
       "        vertical-align: top;\n",
       "    }\n",
       "\n",
       "    .dataframe thead th {\n",
       "        text-align: right;\n",
       "    }\n",
       "</style>\n",
       "<table border=\"1\" class=\"dataframe\">\n",
       "  <thead>\n",
       "    <tr style=\"text-align: right;\">\n",
       "      <th></th>\n",
       "      <th>Died</th>\n",
       "      <th>Survived</th>\n",
       "    </tr>\n",
       "    <tr>\n",
       "      <th>Number of siblings/spouses</th>\n",
       "      <th></th>\n",
       "      <th></th>\n",
       "    </tr>\n",
       "  </thead>\n",
       "  <tbody>\n",
       "    <tr>\n",
       "      <th>0</th>\n",
       "      <td>0.654605</td>\n",
       "      <td>0.345395</td>\n",
       "    </tr>\n",
       "    <tr>\n",
       "      <th>1</th>\n",
       "      <td>0.464115</td>\n",
       "      <td>0.535885</td>\n",
       "    </tr>\n",
       "    <tr>\n",
       "      <th>2</th>\n",
       "      <td>0.535714</td>\n",
       "      <td>0.464286</td>\n",
       "    </tr>\n",
       "    <tr>\n",
       "      <th>3</th>\n",
       "      <td>0.750000</td>\n",
       "      <td>0.250000</td>\n",
       "    </tr>\n",
       "    <tr>\n",
       "      <th>4</th>\n",
       "      <td>0.833333</td>\n",
       "      <td>0.166667</td>\n",
       "    </tr>\n",
       "    <tr>\n",
       "      <th>5</th>\n",
       "      <td>1.000000</td>\n",
       "      <td>0.000000</td>\n",
       "    </tr>\n",
       "    <tr>\n",
       "      <th>8</th>\n",
       "      <td>1.000000</td>\n",
       "      <td>0.000000</td>\n",
       "    </tr>\n",
       "  </tbody>\n",
       "</table>\n",
       "</div>"
      ],
      "text/plain": [
       "                                Died  Survived\n",
       "Number of siblings/spouses                    \n",
       "0                           0.654605  0.345395\n",
       "1                           0.464115  0.535885\n",
       "2                           0.535714  0.464286\n",
       "3                           0.750000  0.250000\n",
       "4                           0.833333  0.166667\n",
       "5                           1.000000  0.000000\n",
       "8                           1.000000  0.000000"
      ]
     },
     "execution_count": 36,
     "metadata": {},
     "output_type": "execute_result"
    }
   ],
   "source": [
    "new_name = {\"Number of siblings/spouses\":\"Total\"}\n",
    "sibsp = titanic_df.groupby(by=\"Number of siblings/spouses\")[\"Survived\"].value_counts(normalize=True).to_frame().unstack()\n",
    "sibsp = sibsp.fillna(0)\n",
    "sibsp.columns = sibsp.columns.get_level_values(1)\n",
    "sibsp.columns.name = None\n",
    "sibsp = sibsp.rename(columns={0:\"Died\",1:\"Survived\"}) \n",
    "sibsp"
   ]
  },
  {
   "cell_type": "code",
   "execution_count": null,
   "metadata": {},
   "outputs": [],
   "source": []
  },
  {
   "cell_type": "code",
   "execution_count": 37,
   "metadata": {},
   "outputs": [
    {
     "data": {
      "image/png": "[encoded data removed]",
      "text/plain": [
       "<Figure size 1000x400 with 1 Axes>"
      ]
     },
     "metadata": {
      "needs_background": "light"
     },
     "output_type": "display_data"
    }
   ],
   "source": [
    "bar_width = 0.3\n",
    "start_first_bar = sibsp.index-bar_width/2\n",
    "start_second_bar = sibsp.index+bar_width/2\n",
    "\n",
    "plt.figure(figsize=(10, 4), dpi=100)\n",
    "plt.bar(start_first_bar, sibsp[\"Died\"], width = bar_width, color = 'lightcoral', edgecolor = 'black', label='Died')\n",
    "plt.bar(start_second_bar, sibsp[\"Survived\"], width = bar_width, color = 'lightgreen', edgecolor = 'black',  label='Survived')\n",
    "plt.xticks(sibsp.index)\n",
    "plt.ylabel('%')\n",
    "plt.legend()\n",
    "plt.title(\"Survival by number of siblings/spouses\")\n",
    "plt.show()"
   ]
  },
  {
   "cell_type": "markdown",
   "metadata": {},
   "source": [
    "In the graph we can see that those with one or two siblings/spouses seem more likely to survive. Let's see now with the parents and children."
   ]
  },
  {
   "cell_type": "code",
   "execution_count": 38,
   "metadata": {},
   "outputs": [
    {
     "data": {
      "text/html": [
       "<div>\n",
       "<style scoped>\n",
       "    .dataframe tbody tr th:only-of-type {\n",
       "        vertical-align: middle;\n",
       "    }\n",
       "\n",
       "    .dataframe tbody tr th {\n",
       "        vertical-align: top;\n",
       "    }\n",
       "\n",
       "    .dataframe thead th {\n",
       "        text-align: right;\n",
       "    }\n",
       "</style>\n",
       "<table border=\"1\" class=\"dataframe\">\n",
       "  <thead>\n",
       "    <tr style=\"text-align: right;\">\n",
       "      <th></th>\n",
       "      <th>Died</th>\n",
       "      <th>Survived</th>\n",
       "    </tr>\n",
       "    <tr>\n",
       "      <th>Number of parents/children</th>\n",
       "      <th></th>\n",
       "      <th></th>\n",
       "    </tr>\n",
       "  </thead>\n",
       "  <tbody>\n",
       "    <tr>\n",
       "      <th>0</th>\n",
       "      <td>0.656342</td>\n",
       "      <td>0.343658</td>\n",
       "    </tr>\n",
       "    <tr>\n",
       "      <th>1</th>\n",
       "      <td>0.449153</td>\n",
       "      <td>0.550847</td>\n",
       "    </tr>\n",
       "    <tr>\n",
       "      <th>2</th>\n",
       "      <td>0.500000</td>\n",
       "      <td>0.500000</td>\n",
       "    </tr>\n",
       "    <tr>\n",
       "      <th>3</th>\n",
       "      <td>0.400000</td>\n",
       "      <td>0.600000</td>\n",
       "    </tr>\n",
       "    <tr>\n",
       "      <th>4</th>\n",
       "      <td>1.000000</td>\n",
       "      <td>0.000000</td>\n",
       "    </tr>\n",
       "    <tr>\n",
       "      <th>5</th>\n",
       "      <td>0.800000</td>\n",
       "      <td>0.200000</td>\n",
       "    </tr>\n",
       "    <tr>\n",
       "      <th>6</th>\n",
       "      <td>1.000000</td>\n",
       "      <td>0.000000</td>\n",
       "    </tr>\n",
       "  </tbody>\n",
       "</table>\n",
       "</div>"
      ],
      "text/plain": [
       "                                Died  Survived\n",
       "Number of parents/children                    \n",
       "0                           0.656342  0.343658\n",
       "1                           0.449153  0.550847\n",
       "2                           0.500000  0.500000\n",
       "3                           0.400000  0.600000\n",
       "4                           1.000000  0.000000\n",
       "5                           0.800000  0.200000\n",
       "6                           1.000000  0.000000"
      ]
     },
     "execution_count": 38,
     "metadata": {},
     "output_type": "execute_result"
    }
   ],
   "source": [
    "new_name = {\"Number of parents/children\":\"Total\"}\n",
    "parch = titanic_df.groupby(by=\"Number of parents/children\")[\"Survived\"].value_counts(normalize=True).to_frame().unstack()\n",
    "parch = parch.fillna(0)\n",
    "parch.columns = parch.columns.get_level_values(1)\n",
    "parch.columns.name = None\n",
    "parch = parch.rename(columns={0:\"Died\",1:\"Survived\"}) \n",
    "parch"
   ]
  },
  {
   "cell_type": "code",
   "execution_count": 39,
   "metadata": {},
   "outputs": [
    {
     "data": {
      "image/png": "[encoded data removed]",
      "text/plain": [
       "<Figure size 1000x400 with 1 Axes>"
      ]
     },
     "metadata": {
      "needs_background": "light"
     },
     "output_type": "display_data"
    }
   ],
   "source": [
    "bar_width = 0.3\n",
    "start_first_bar = parch.index-bar_width/2\n",
    "start_second_bar = parch.index+bar_width/2\n",
    "\n",
    "plt.figure(figsize=(10, 4), dpi=100)\n",
    "plt.bar(start_first_bar, parch[\"Died\"], width = bar_width, color = 'lightcoral', edgecolor = 'black', label='Died')\n",
    "plt.bar(start_second_bar, parch[\"Survived\"], width = bar_width, color = 'lightgreen', edgecolor = 'black',  label='Survived')\n",
    "plt.xticks(parch.index)\n",
    "plt.ylabel('%')\n",
    "plt.legend()\n",
    "plt.title(\"Survival by number of parents/children\")\n",
    "plt.show()"
   ]
  },
  {
   "cell_type": "markdown",
   "metadata": {},
   "source": [
    "In this case we can see again that those with a family were more likely to survive than those that wet alone."
   ]
  },
  {
   "cell_type": "markdown",
   "metadata": {},
   "source": [
    "### Is there any relationship with the embarkation port?"
   ]
  },
  {
   "cell_type": "markdown",
   "metadata": {},
   "source": [
    "In this section we will see if people that embarked in a certain port survived more than from the others."
   ]
  },
  {
   "cell_type": "code",
   "execution_count": 40,
   "metadata": {},
   "outputs": [],
   "source": [
    "embark_ports = titanic_df[\"Embarked\"].value_counts(normalize=True).round(2)"
   ]
  },
  {
   "cell_type": "code",
   "execution_count": 41,
   "metadata": {},
   "outputs": [],
   "source": [
    "survival_by_ports = titanic_df.groupby(by=\"Embarked\")[\"Survived\"].agg(\"mean\")"
   ]
  },
  {
   "cell_type": "code",
   "execution_count": 42,
   "metadata": {},
   "outputs": [
    {
     "data": {
      "image/png": "[encoded data removed]",
      "text/plain": [
       "<Figure size 1000x400 with 2 Axes>"
      ]
     },
     "metadata": {
      "needs_background": "light"
     },
     "output_type": "display_data"
    }
   ],
   "source": [
    "plt.figure(figsize=(10, 4), dpi=100)\n",
    "plt.subplot2grid(shape=(1,2),loc=(0,0))\n",
    "squarify.plot(sizes=embark_ports,value=embark_ports, label=embark_ports.index, alpha=.8,color=['darkslategrey', 'slategrey','cornflowerblue'])\n",
    "plt.axis('off')  \n",
    "plt.title(\"% of people from each port\")   \n",
    "\n",
    "plt.subplot2grid(shape=(1,2),loc=(0,1))\n",
    "plt.bar(survival_by_ports.index, survival_by_ports.values, color = ['slategrey', 'cornflowerblue','darkslategrey'], alpha = 0.6)\n",
    "plt.ylim(top=1)\n",
    "plt.ylabel('%')\n",
    "plt.title(\"Survival by port of embarkation\")\n",
    "plt.show()"
   ]
  },
  {
   "cell_type": "markdown",
   "metadata": {},
   "source": [
    "We can see that those that embarked in Cherbourg had slightly better chances, though we have to take into account that Southhampton was the port from which most of the people embarked."
   ]
  },
  {
   "cell_type": "markdown",
   "metadata": {},
   "source": [
    "### Is there any relationship between age/fare and the survival?"
   ]
  },
  {
   "cell_type": "markdown",
   "metadata": {},
   "source": [
    "Now that we have seen each individual variable in its own, let's start to look for correlations between them."
   ]
  },
  {
   "cell_type": "code",
   "execution_count": 43,
   "metadata": {},
   "outputs": [
    {
     "data": {
      "image/png": "[encoded data removed]",
      "text/plain": [
       "<Figure size 807.875x504 with 1 Axes>"
      ]
     },
     "metadata": {
      "needs_background": "light"
     },
     "output_type": "display_data"
    }
   ],
   "source": [
    "sns.lmplot( x='Age', y='Fare',data=titanic_df,fit_reg=False, hue='Survived', legend=True,height=7,aspect=1.5,markers=[\"x\",\"o\"],palette=['red','green'])\n",
    "plt.title(\"Age/Fare with survival\")\n",
    "plt.show()"
   ]
  },
  {
   "cell_type": "markdown",
   "metadata": {},
   "source": [
    "In this graph we can clearly see that those that paid a higher fare likely survived. Let's see if we can get a better view by making a graph for each sex."
   ]
  },
  {
   "cell_type": "code",
   "execution_count": 44,
   "metadata": {},
   "outputs": [],
   "source": [
    "columns = [\"Age\",\"Fare\",\"Survived\"]\n",
    "is_male = titanic_df[\"Sex\"] == \"Male\"\n",
    "fare_limit = titanic_df[\"Fare\"] < 300 # So that we can see better the lower values\n",
    "age_fare_male = titanic_df.loc[is_male & fare_limit,columns]\n",
    "age_fare_female = titanic_df.loc[(~is_male) & fare_limit,columns]"
   ]
  },
  {
   "cell_type": "code",
   "execution_count": 45,
   "metadata": {},
   "outputs": [
    {
     "data": {
      "image/png": "[encoded data removed]",
      "text/plain": [
       "<Figure size 807.875x504 with 1 Axes>"
      ]
     },
     "metadata": {
      "needs_background": "light"
     },
     "output_type": "display_data"
    }
   ],
   "source": [
    "sns.lmplot( x='Age', y='Fare',data=age_fare_male,fit_reg=False, hue='Survived', legend=True,height=7,aspect=1.5,markers=[\"x\",\"o\"],palette=['red','green'])\n",
    "plt.title(\"Age/Fare with survival, male\")\n",
    "plt.show()"
   ]
  },
  {
   "cell_type": "code",
   "execution_count": 46,
   "metadata": {},
   "outputs": [
    {
     "data": {
      "image/png": "[encoded data removed]",
      "text/plain": [
       "<Figure size 807.875x504 with 1 Axes>"
      ]
     },
     "metadata": {
      "needs_background": "light"
     },
     "output_type": "display_data"
    }
   ],
   "source": [
    "sns.lmplot( x='Age', y='Fare',data=age_fare_female,fit_reg=False, hue='Survived', legend=True,height=7,aspect=1.5,markers=[\"x\",\"o\"],palette=['red','green'])\n",
    "plt.title(\"Age/Fare with survival, female\")\n",
    "plt.show()"
   ]
  },
  {
   "cell_type": "markdown",
   "metadata": {},
   "source": [
    "This graph further confirms what we saw before, women more likely survived. In addition, we can see that also with the children."
   ]
  },
  {
   "cell_type": "markdown",
   "metadata": {},
   "source": [
    "Let's try to draw the boundaries of the socio-economic status by looking at different numerical values."
   ]
  },
  {
   "cell_type": "code",
   "execution_count": 47,
   "metadata": {},
   "outputs": [
    {
     "data": {
      "text/html": [
       "<div>\n",
       "<style scoped>\n",
       "    .dataframe tbody tr th:only-of-type {\n",
       "        vertical-align: middle;\n",
       "    }\n",
       "\n",
       "    .dataframe tbody tr th {\n",
       "        vertical-align: top;\n",
       "    }\n",
       "\n",
       "    .dataframe thead th {\n",
       "        text-align: right;\n",
       "    }\n",
       "</style>\n",
       "<table border=\"1\" class=\"dataframe\">\n",
       "  <thead>\n",
       "    <tr style=\"text-align: right;\">\n",
       "      <th></th>\n",
       "      <th>min</th>\n",
       "      <th>mean</th>\n",
       "      <th>max</th>\n",
       "      <th>std</th>\n",
       "    </tr>\n",
       "    <tr>\n",
       "      <th>Economic status</th>\n",
       "      <th></th>\n",
       "      <th></th>\n",
       "      <th></th>\n",
       "      <th></th>\n",
       "    </tr>\n",
       "  </thead>\n",
       "  <tbody>\n",
       "    <tr>\n",
       "      <th>Upper</th>\n",
       "      <td>0.0</td>\n",
       "      <td>84.15</td>\n",
       "      <td>512.33</td>\n",
       "      <td>78.38</td>\n",
       "    </tr>\n",
       "    <tr>\n",
       "      <th>Middle</th>\n",
       "      <td>0.0</td>\n",
       "      <td>20.66</td>\n",
       "      <td>73.50</td>\n",
       "      <td>13.42</td>\n",
       "    </tr>\n",
       "    <tr>\n",
       "      <th>Lower</th>\n",
       "      <td>0.0</td>\n",
       "      <td>13.68</td>\n",
       "      <td>69.55</td>\n",
       "      <td>11.78</td>\n",
       "    </tr>\n",
       "  </tbody>\n",
       "</table>\n",
       "</div>"
      ],
      "text/plain": [
       "                 min   mean     max    std\n",
       "Economic status                           \n",
       "Upper            0.0  84.15  512.33  78.38\n",
       "Middle           0.0  20.66   73.50  13.42\n",
       "Lower            0.0  13.68   69.55  11.78"
      ]
     },
     "execution_count": 47,
     "metadata": {},
     "output_type": "execute_result"
    }
   ],
   "source": [
    "titanic_df.groupby(by=\"Economic status\")[\"Fare\"].agg([\"min\",\"mean\",\"max\",\"std\"]).round(2)"
   ]
  },
  {
   "cell_type": "markdown",
   "metadata": {},
   "source": [
    "Seeing that the minimum fare was 0 for all economic status, I decided to take a look at these particular cases. "
   ]
  },
  {
   "cell_type": "code",
   "execution_count": 48,
   "metadata": {},
   "outputs": [
    {
     "data": {
      "text/html": [
       "<div>\n",
       "<style scoped>\n",
       "    .dataframe tbody tr th:only-of-type {\n",
       "        vertical-align: middle;\n",
       "    }\n",
       "\n",
       "    .dataframe tbody tr th {\n",
       "        vertical-align: top;\n",
       "    }\n",
       "\n",
       "    .dataframe thead th {\n",
       "        text-align: right;\n",
       "    }\n",
       "</style>\n",
       "<table border=\"1\" class=\"dataframe\">\n",
       "  <thead>\n",
       "    <tr style=\"text-align: right;\">\n",
       "      <th></th>\n",
       "      <th>Name</th>\n",
       "      <th>Sex</th>\n",
       "      <th>Age</th>\n",
       "      <th>Economic status</th>\n",
       "      <th>Fare</th>\n",
       "      <th>Number of siblings/spouses</th>\n",
       "      <th>Number of parents/children</th>\n",
       "      <th>Cabin</th>\n",
       "      <th>Embarked</th>\n",
       "      <th>Ticket</th>\n",
       "      <th>Survived</th>\n",
       "    </tr>\n",
       "    <tr>\n",
       "      <th>PassengerId</th>\n",
       "      <th></th>\n",
       "      <th></th>\n",
       "      <th></th>\n",
       "      <th></th>\n",
       "      <th></th>\n",
       "      <th></th>\n",
       "      <th></th>\n",
       "      <th></th>\n",
       "      <th></th>\n",
       "      <th></th>\n",
       "      <th></th>\n",
       "    </tr>\n",
       "  </thead>\n",
       "  <tbody>\n",
       "    <tr>\n",
       "      <th>180</th>\n",
       "      <td>Leonard, Mr. Lionel</td>\n",
       "      <td>Male</td>\n",
       "      <td>36.0</td>\n",
       "      <td>Lower</td>\n",
       "      <td>0.0</td>\n",
       "      <td>0</td>\n",
       "      <td>0</td>\n",
       "      <td>-</td>\n",
       "      <td>Southhampton</td>\n",
       "      <td>LINE</td>\n",
       "      <td>0</td>\n",
       "    </tr>\n",
       "    <tr>\n",
       "      <th>264</th>\n",
       "      <td>Harrison, Mr. William</td>\n",
       "      <td>Male</td>\n",
       "      <td>40.0</td>\n",
       "      <td>Upper</td>\n",
       "      <td>0.0</td>\n",
       "      <td>0</td>\n",
       "      <td>0</td>\n",
       "      <td>B94</td>\n",
       "      <td>Southhampton</td>\n",
       "      <td>112059</td>\n",
       "      <td>0</td>\n",
       "    </tr>\n",
       "    <tr>\n",
       "      <th>272</th>\n",
       "      <td>Tornquist, Mr. William Henry</td>\n",
       "      <td>Male</td>\n",
       "      <td>25.0</td>\n",
       "      <td>Lower</td>\n",
       "      <td>0.0</td>\n",
       "      <td>0</td>\n",
       "      <td>0</td>\n",
       "      <td>-</td>\n",
       "      <td>Southhampton</td>\n",
       "      <td>LINE</td>\n",
       "      <td>1</td>\n",
       "    </tr>\n",
       "    <tr>\n",
       "      <th>278</th>\n",
       "      <td>Parkes, Mr. Francis \"Frank\"</td>\n",
       "      <td>Male</td>\n",
       "      <td>NaN</td>\n",
       "      <td>Middle</td>\n",
       "      <td>0.0</td>\n",
       "      <td>0</td>\n",
       "      <td>0</td>\n",
       "      <td>-</td>\n",
       "      <td>Southhampton</td>\n",
       "      <td>239853</td>\n",
       "      <td>0</td>\n",
       "    </tr>\n",
       "    <tr>\n",
       "      <th>303</th>\n",
       "      <td>Johnson, Mr. William Cahoone Jr</td>\n",
       "      <td>Male</td>\n",
       "      <td>19.0</td>\n",
       "      <td>Lower</td>\n",
       "      <td>0.0</td>\n",
       "      <td>0</td>\n",
       "      <td>0</td>\n",
       "      <td>-</td>\n",
       "      <td>Southhampton</td>\n",
       "      <td>LINE</td>\n",
       "      <td>0</td>\n",
       "    </tr>\n",
       "    <tr>\n",
       "      <th>414</th>\n",
       "      <td>Cunningham, Mr. Alfred Fleming</td>\n",
       "      <td>Male</td>\n",
       "      <td>NaN</td>\n",
       "      <td>Middle</td>\n",
       "      <td>0.0</td>\n",
       "      <td>0</td>\n",
       "      <td>0</td>\n",
       "      <td>-</td>\n",
       "      <td>Southhampton</td>\n",
       "      <td>239853</td>\n",
       "      <td>0</td>\n",
       "    </tr>\n",
       "    <tr>\n",
       "      <th>467</th>\n",
       "      <td>Campbell, Mr. William</td>\n",
       "      <td>Male</td>\n",
       "      <td>NaN</td>\n",
       "      <td>Middle</td>\n",
       "      <td>0.0</td>\n",
       "      <td>0</td>\n",
       "      <td>0</td>\n",
       "      <td>-</td>\n",
       "      <td>Southhampton</td>\n",
       "      <td>239853</td>\n",
       "      <td>0</td>\n",
       "    </tr>\n",
       "    <tr>\n",
       "      <th>482</th>\n",
       "      <td>Frost, Mr. Anthony Wood \"Archie\"</td>\n",
       "      <td>Male</td>\n",
       "      <td>NaN</td>\n",
       "      <td>Middle</td>\n",
       "      <td>0.0</td>\n",
       "      <td>0</td>\n",
       "      <td>0</td>\n",
       "      <td>-</td>\n",
       "      <td>Southhampton</td>\n",
       "      <td>239854</td>\n",
       "      <td>0</td>\n",
       "    </tr>\n",
       "    <tr>\n",
       "      <th>598</th>\n",
       "      <td>Johnson, Mr. Alfred</td>\n",
       "      <td>Male</td>\n",
       "      <td>49.0</td>\n",
       "      <td>Lower</td>\n",
       "      <td>0.0</td>\n",
       "      <td>0</td>\n",
       "      <td>0</td>\n",
       "      <td>-</td>\n",
       "      <td>Southhampton</td>\n",
       "      <td>LINE</td>\n",
       "      <td>0</td>\n",
       "    </tr>\n",
       "    <tr>\n",
       "      <th>634</th>\n",
       "      <td>Parr, Mr. William Henry Marsh</td>\n",
       "      <td>Male</td>\n",
       "      <td>NaN</td>\n",
       "      <td>Upper</td>\n",
       "      <td>0.0</td>\n",
       "      <td>0</td>\n",
       "      <td>0</td>\n",
       "      <td>-</td>\n",
       "      <td>Southhampton</td>\n",
       "      <td>112052</td>\n",
       "      <td>0</td>\n",
       "    </tr>\n",
       "    <tr>\n",
       "      <th>675</th>\n",
       "      <td>Watson, Mr. Ennis Hastings</td>\n",
       "      <td>Male</td>\n",
       "      <td>NaN</td>\n",
       "      <td>Middle</td>\n",
       "      <td>0.0</td>\n",
       "      <td>0</td>\n",
       "      <td>0</td>\n",
       "      <td>-</td>\n",
       "      <td>Southhampton</td>\n",
       "      <td>239856</td>\n",
       "      <td>0</td>\n",
       "    </tr>\n",
       "    <tr>\n",
       "      <th>733</th>\n",
       "      <td>Knight, Mr. Robert J</td>\n",
       "      <td>Male</td>\n",
       "      <td>NaN</td>\n",
       "      <td>Middle</td>\n",
       "      <td>0.0</td>\n",
       "      <td>0</td>\n",
       "      <td>0</td>\n",
       "      <td>-</td>\n",
       "      <td>Southhampton</td>\n",
       "      <td>239855</td>\n",
       "      <td>0</td>\n",
       "    </tr>\n",
       "    <tr>\n",
       "      <th>807</th>\n",
       "      <td>Andrews, Mr. Thomas Jr</td>\n",
       "      <td>Male</td>\n",
       "      <td>39.0</td>\n",
       "      <td>Upper</td>\n",
       "      <td>0.0</td>\n",
       "      <td>0</td>\n",
       "      <td>0</td>\n",
       "      <td>A36</td>\n",
       "      <td>Southhampton</td>\n",
       "      <td>112050</td>\n",
       "      <td>0</td>\n",
       "    </tr>\n",
       "    <tr>\n",
       "      <th>816</th>\n",
       "      <td>Fry, Mr. Richard</td>\n",
       "      <td>Male</td>\n",
       "      <td>NaN</td>\n",
       "      <td>Upper</td>\n",
       "      <td>0.0</td>\n",
       "      <td>0</td>\n",
       "      <td>0</td>\n",
       "      <td>B102</td>\n",
       "      <td>Southhampton</td>\n",
       "      <td>112058</td>\n",
       "      <td>0</td>\n",
       "    </tr>\n",
       "    <tr>\n",
       "      <th>823</th>\n",
       "      <td>Reuchlin, Jonkheer. John George</td>\n",
       "      <td>Male</td>\n",
       "      <td>38.0</td>\n",
       "      <td>Upper</td>\n",
       "      <td>0.0</td>\n",
       "      <td>0</td>\n",
       "      <td>0</td>\n",
       "      <td>-</td>\n",
       "      <td>Southhampton</td>\n",
       "      <td>19972</td>\n",
       "      <td>0</td>\n",
       "    </tr>\n",
       "  </tbody>\n",
       "</table>\n",
       "</div>"
      ],
      "text/plain": [
       "                                         Name   Sex   Age Economic status  \\\n",
       "PassengerId                                                                 \n",
       "180                       Leonard, Mr. Lionel  Male  36.0           Lower   \n",
       "264                     Harrison, Mr. William  Male  40.0           Upper   \n",
       "272              Tornquist, Mr. William Henry  Male  25.0           Lower   \n",
       "278               Parkes, Mr. Francis \"Frank\"  Male   NaN          Middle   \n",
       "303           Johnson, Mr. William Cahoone Jr  Male  19.0           Lower   \n",
       "414            Cunningham, Mr. Alfred Fleming  Male   NaN          Middle   \n",
       "467                     Campbell, Mr. William  Male   NaN          Middle   \n",
       "482          Frost, Mr. Anthony Wood \"Archie\"  Male   NaN          Middle   \n",
       "598                       Johnson, Mr. Alfred  Male  49.0           Lower   \n",
       "634             Parr, Mr. William Henry Marsh  Male   NaN           Upper   \n",
       "675                Watson, Mr. Ennis Hastings  Male   NaN          Middle   \n",
       "733                      Knight, Mr. Robert J  Male   NaN          Middle   \n",
       "807                    Andrews, Mr. Thomas Jr  Male  39.0           Upper   \n",
       "816                          Fry, Mr. Richard  Male   NaN           Upper   \n",
       "823           Reuchlin, Jonkheer. John George  Male  38.0           Upper   \n",
       "\n",
       "             Fare  Number of siblings/spouses  Number of parents/children  \\\n",
       "PassengerId                                                                 \n",
       "180           0.0                           0                           0   \n",
       "264           0.0                           0                           0   \n",
       "272           0.0                           0                           0   \n",
       "278           0.0                           0                           0   \n",
       "303           0.0                           0                           0   \n",
       "414           0.0                           0                           0   \n",
       "467           0.0                           0                           0   \n",
       "482           0.0                           0                           0   \n",
       "598           0.0                           0                           0   \n",
       "634           0.0                           0                           0   \n",
       "675           0.0                           0                           0   \n",
       "733           0.0                           0                           0   \n",
       "807           0.0                           0                           0   \n",
       "816           0.0                           0                           0   \n",
       "823           0.0                           0                           0   \n",
       "\n",
       "            Cabin      Embarked  Ticket  Survived  \n",
       "PassengerId                                        \n",
       "180             -  Southhampton    LINE         0  \n",
       "264           B94  Southhampton  112059         0  \n",
       "272             -  Southhampton    LINE         1  \n",
       "278             -  Southhampton  239853         0  \n",
       "303             -  Southhampton    LINE         0  \n",
       "414             -  Southhampton  239853         0  \n",
       "467             -  Southhampton  239853         0  \n",
       "482             -  Southhampton  239854         0  \n",
       "598             -  Southhampton    LINE         0  \n",
       "634             -  Southhampton  112052         0  \n",
       "675             -  Southhampton  239856         0  \n",
       "733             -  Southhampton  239855         0  \n",
       "807           A36  Southhampton  112050         0  \n",
       "816          B102  Southhampton  112058         0  \n",
       "823             -  Southhampton   19972         0  "
      ]
     },
     "execution_count": 48,
     "metadata": {},
     "output_type": "execute_result"
    }
   ],
   "source": [
    "titanic_df.loc[titanic_df[\"Fare\"] == 0]"
   ]
  },
  {
   "cell_type": "markdown",
   "metadata": {},
   "source": [
    "By investigating a little, it turned out that these people boarded the ship without paying a fare for different reasons. For example, Andrews, Mr. Thomas Jr. was the naval architect for the ship, while other passengers were part of the [\"guarantee group\"](https://www.encyclopedia-titanica.org/titanic-guarantee-group/).\n",
    "\n",
    "\n",
    "Let's continue without taking into account these cases."
   ]
  },
  {
   "cell_type": "code",
   "execution_count": 49,
   "metadata": {},
   "outputs": [
    {
     "data": {
      "text/html": [
       "<div>\n",
       "<style scoped>\n",
       "    .dataframe tbody tr th:only-of-type {\n",
       "        vertical-align: middle;\n",
       "    }\n",
       "\n",
       "    .dataframe tbody tr th {\n",
       "        vertical-align: top;\n",
       "    }\n",
       "\n",
       "    .dataframe thead th {\n",
       "        text-align: right;\n",
       "    }\n",
       "</style>\n",
       "<table border=\"1\" class=\"dataframe\">\n",
       "  <thead>\n",
       "    <tr style=\"text-align: right;\">\n",
       "      <th></th>\n",
       "      <th>min</th>\n",
       "      <th>mean</th>\n",
       "      <th>max</th>\n",
       "      <th>std</th>\n",
       "    </tr>\n",
       "    <tr>\n",
       "      <th>Economic status</th>\n",
       "      <th></th>\n",
       "      <th></th>\n",
       "      <th></th>\n",
       "      <th></th>\n",
       "    </tr>\n",
       "  </thead>\n",
       "  <tbody>\n",
       "    <tr>\n",
       "      <th>Upper</th>\n",
       "      <td>5.00</td>\n",
       "      <td>86.15</td>\n",
       "      <td>512.33</td>\n",
       "      <td>78.21</td>\n",
       "    </tr>\n",
       "    <tr>\n",
       "      <th>Middle</th>\n",
       "      <td>10.50</td>\n",
       "      <td>21.36</td>\n",
       "      <td>73.50</td>\n",
       "      <td>13.08</td>\n",
       "    </tr>\n",
       "    <tr>\n",
       "      <th>Lower</th>\n",
       "      <td>4.01</td>\n",
       "      <td>13.79</td>\n",
       "      <td>69.55</td>\n",
       "      <td>11.76</td>\n",
       "    </tr>\n",
       "  </tbody>\n",
       "</table>\n",
       "</div>"
      ],
      "text/plain": [
       "                   min   mean     max    std\n",
       "Economic status                             \n",
       "Upper             5.00  86.15  512.33  78.21\n",
       "Middle           10.50  21.36   73.50  13.08\n",
       "Lower             4.01  13.79   69.55  11.76"
      ]
     },
     "execution_count": 49,
     "metadata": {},
     "output_type": "execute_result"
    }
   ],
   "source": [
    "passengers_with_fare = titanic_df.loc[titanic_df[\"Fare\"]>0]\n",
    "fare_range_by_status = passengers_with_fare.groupby(by=\"Economic status\")[\"Fare\"].agg([\"min\",\"mean\",\"max\",\"std\"]).round(2)\n",
    "fare_range_by_status"
   ]
  },
  {
   "cell_type": "markdown",
   "metadata": {},
   "source": [
    "By taking into account the mean and standard deviation, we can see that some groups overlap between each other in parts, thus blurring the boundaries. Of course here we have to take into account that the fare in this case includes all of the fares from one family."
   ]
  },
  {
   "cell_type": "code",
   "execution_count": 50,
   "metadata": {},
   "outputs": [
    {
     "data": {
      "image/png": "[encoded data removed]",
      "text/plain": [
       "<Figure size 1200x360 with 1 Axes>"
      ]
     },
     "metadata": {
      "needs_background": "light"
     },
     "output_type": "display_data"
    }
   ],
   "source": [
    "min_fare_std = fare_range_by_status[\"mean\"] - fare_range_by_status[\"std\"]\n",
    "max_fare_std = fare_range_by_status[\"mean\"] + fare_range_by_status[\"std\"]\n",
    "colors = ['gold','lawngreen','sienna']\n",
    "plt.figure(figsize=(10, 3), dpi=120)\n",
    "plt.hlines(y=fare_range_by_status.index, xmin=min_fare_std, xmax=max_fare_std, color=colors, alpha=1)\n",
    "plt.scatter(min_fare_std, fare_range_by_status.index, color=colors, alpha=1, label='Min fare (std)')\n",
    "plt.scatter(max_fare_std, fare_range_by_status.index, color=colors, alpha=1 , linewidths=1,edgecolor=\"black\",label='Max fare (std)')\n",
    "plt.legend()\n",
    " \n",
    "plt.show()"
   ]
  },
  {
   "cell_type": "markdown",
   "metadata": {},
   "source": [
    "### How is the survival distributed by dividing sex and the socio-economic status?"
   ]
  },
  {
   "cell_type": "code",
   "execution_count": 51,
   "metadata": {},
   "outputs": [
    {
     "data": {
      "text/html": [
       "<div>\n",
       "<style scoped>\n",
       "    .dataframe tbody tr th:only-of-type {\n",
       "        vertical-align: middle;\n",
       "    }\n",
       "\n",
       "    .dataframe tbody tr th {\n",
       "        vertical-align: top;\n",
       "    }\n",
       "\n",
       "    .dataframe thead th {\n",
       "        text-align: right;\n",
       "    }\n",
       "</style>\n",
       "<table border=\"1\" class=\"dataframe\">\n",
       "  <thead>\n",
       "    <tr style=\"text-align: right;\">\n",
       "      <th></th>\n",
       "      <th>Died</th>\n",
       "      <th>Survived</th>\n",
       "    </tr>\n",
       "    <tr>\n",
       "      <th>Economic status</th>\n",
       "      <th></th>\n",
       "      <th></th>\n",
       "    </tr>\n",
       "  </thead>\n",
       "  <tbody>\n",
       "    <tr>\n",
       "      <th>Upper</th>\n",
       "      <td>0.03</td>\n",
       "      <td>0.97</td>\n",
       "    </tr>\n",
       "    <tr>\n",
       "      <th>Middle</th>\n",
       "      <td>0.08</td>\n",
       "      <td>0.92</td>\n",
       "    </tr>\n",
       "    <tr>\n",
       "      <th>Lower</th>\n",
       "      <td>0.50</td>\n",
       "      <td>0.50</td>\n",
       "    </tr>\n",
       "  </tbody>\n",
       "</table>\n",
       "</div>"
      ],
      "text/plain": [
       "                 Died  Survived\n",
       "Economic status                \n",
       "Upper            0.03      0.97\n",
       "Middle           0.08      0.92\n",
       "Lower            0.50      0.50"
      ]
     },
     "execution_count": 51,
     "metadata": {},
     "output_type": "execute_result"
    }
   ],
   "source": [
    "female = titanic_df[\"Sex\"] == \"Female\"\n",
    "female_passengers = titanic_df.loc[female]\n",
    "survival_female_class = female_passengers.groupby(by=\"Economic status\")[\"Survived\"].value_counts(normalize=True).round(2).unstack()\n",
    "survival_female_class = survival_female_class.rename(columns={0:\"Died\",1:\"Survived\"})\n",
    "survival_female_class.columns.name = None\n",
    "survival_female_class"
   ]
  },
  {
   "cell_type": "code",
   "execution_count": 52,
   "metadata": {},
   "outputs": [
    {
     "data": {
      "text/html": [
       "<div>\n",
       "<style scoped>\n",
       "    .dataframe tbody tr th:only-of-type {\n",
       "        vertical-align: middle;\n",
       "    }\n",
       "\n",
       "    .dataframe tbody tr th {\n",
       "        vertical-align: top;\n",
       "    }\n",
       "\n",
       "    .dataframe thead th {\n",
       "        text-align: right;\n",
       "    }\n",
       "</style>\n",
       "<table border=\"1\" class=\"dataframe\">\n",
       "  <thead>\n",
       "    <tr style=\"text-align: right;\">\n",
       "      <th></th>\n",
       "      <th>Died</th>\n",
       "      <th>Survived</th>\n",
       "    </tr>\n",
       "    <tr>\n",
       "      <th>Economic status</th>\n",
       "      <th></th>\n",
       "      <th></th>\n",
       "    </tr>\n",
       "  </thead>\n",
       "  <tbody>\n",
       "    <tr>\n",
       "      <th>Upper</th>\n",
       "      <td>0.63</td>\n",
       "      <td>0.37</td>\n",
       "    </tr>\n",
       "    <tr>\n",
       "      <th>Middle</th>\n",
       "      <td>0.84</td>\n",
       "      <td>0.16</td>\n",
       "    </tr>\n",
       "    <tr>\n",
       "      <th>Lower</th>\n",
       "      <td>0.86</td>\n",
       "      <td>0.14</td>\n",
       "    </tr>\n",
       "  </tbody>\n",
       "</table>\n",
       "</div>"
      ],
      "text/plain": [
       "                 Died  Survived\n",
       "Economic status                \n",
       "Upper            0.63      0.37\n",
       "Middle           0.84      0.16\n",
       "Lower            0.86      0.14"
      ]
     },
     "execution_count": 52,
     "metadata": {},
     "output_type": "execute_result"
    }
   ],
   "source": [
    "male_passengers = titanic_df.loc[~female]\n",
    "survival_male_class = male_passengers.groupby(by=\"Economic status\")[\"Survived\"].value_counts(normalize=True).round(2).unstack()\n",
    "survival_male_class = survival_male_class.rename(columns={0:\"Died\",1:\"Survived\"})\n",
    "survival_male_class.columns.name = None\n",
    "survival_male_class"
   ]
  },
  {
   "cell_type": "code",
   "execution_count": 80,
   "metadata": {},
   "outputs": [
    {
     "data": {
      "image/png": "[encoded data removed]",
      "text/plain": [
       "<Figure size 1000x500 with 4 Axes>"
      ]
     },
     "metadata": {
      "needs_background": "light"
     },
     "output_type": "display_data"
    }
   ],
   "source": [
    "plt.figure(figsize=(10, 5), dpi=100)\n",
    " \n",
    "plt.subplot2grid(shape=(1,2),loc=(0,0))\n",
    "h1 = sns.heatmap(survival_female_class,annot=True)\n",
    "plt.title(\"Female survival divided by class\")\n",
    "    \n",
    "plt.subplot2grid(shape=(1,2),loc=(0,1))\n",
    "h2 = sns.heatmap(survival_male_class,annot=True)\n",
    "plt.title(\"Male survival divided by class\")\n",
    "\n",
    "plt.show()"
   ]
  },
  {
   "cell_type": "markdown",
   "metadata": {},
   "source": [
    "Here we can clearly see that women from the middle and upper status have way higher chances of survival, while for those of lower class the chances drop by around 40%.\n",
    "\n",
    "Regarding the men, we can see that those from upper class have slightly better chances than those in middle and lower classes."
   ]
  },
  {
   "cell_type": "markdown",
   "metadata": {},
   "source": [
    "### Expansion on the families"
   ]
  },
  {
   "cell_type": "markdown",
   "metadata": {},
   "source": [
    "Let's try to see if we can get anything new by joining the number of siblings/spouses and parents/children."
   ]
  },
  {
   "cell_type": "code",
   "execution_count": 54,
   "metadata": {},
   "outputs": [],
   "source": [
    "titanic_df[\"Family size\"] = titanic_df[\"Number of parents/children\"] + titanic_df[\"Number of siblings/spouses\"] + 1 # To count the passenger"
   ]
  },
  {
   "cell_type": "code",
   "execution_count": 56,
   "metadata": {},
   "outputs": [],
   "source": [
    "family_size = titanic_df[\"Family size\"].value_counts(normalize=True).round(2)"
   ]
  },
  {
   "cell_type": "code",
   "execution_count": 64,
   "metadata": {},
   "outputs": [
    {
     "data": {
      "image/png": "[encoded data removed]",
      "text/plain": [
       "<Figure size 1000x400 with 2 Axes>"
      ]
     },
     "metadata": {
      "needs_background": "light"
     },
     "output_type": "display_data"
    }
   ],
   "source": [
    "colors=[\"tab:blue\",\"tab:orange\",\"tab:green\",\"tab:red\",\"tab:purple\",\"tab:brown\",\"tab:pink\",\"tab:gray\",\"tab:olive\"]\n",
    "plt.figure(figsize=(10, 4), dpi=100)\n",
    "plt.subplot2grid(shape=(1,2),loc=(0,0))\n",
    "squarify.plot(sizes=family_size,label=family_size.index,color=colors, alpha=.8)\n",
    "plt.axis('off')  \n",
    "plt.title(\"Family size\")   \n",
    "\n",
    "plt.subplot2grid(shape=(1,2),loc=(0,1))\n",
    "plt.bar(family_size.index, titanic_df.groupby(by=\"Family size\")[\"Survived\"].agg(\"mean\"), alpha = 0.6)\n",
    "plt.ylim(top=1)\n",
    "plt.xticks(ticks=family_size.index)\n",
    "plt.ylabel('%')\n",
    "plt.title(\"Survival by family size\")\n",
    "plt.show()"
   ]
  },
  {
   "cell_type": "markdown",
   "metadata": {},
   "source": [
    "Here we can see more clearly that families that have 2 to 4 members have higher survival chances than bigger families or passengers alone."
   ]
  },
  {
   "cell_type": "code",
   "execution_count": 81,
   "metadata": {},
   "outputs": [
    {
     "name": "stdout",
     "output_type": "stream",
     "text": [
      "\n",
      " Sex          Female  Male\n",
      "Family size              \n",
      "1               126   411\n",
      "2                87    74\n",
      "3                49    53\n",
      "4                19    10\n",
      "5                12     3\n",
      "6                 8    14\n",
      "7                 8     4\n",
      "8                 2     4\n",
      "11                3     4\n"
     ]
    },
    {
     "data": {
      "image/png": "[encoded data removed]",
      "text/plain": [
       "<Figure size 432x288 with 1 Axes>"
      ]
     },
     "metadata": {
      "needs_background": "light"
     },
     "output_type": "display_data"
    }
   ],
   "source": [
    "table = pd.crosstab(titanic_df['Family size'], titanic_df['Sex'])\n",
    "print('\\n', table)\n",
    "table_fractions = table.div(table.sum(1).astype(float), axis=0)\n",
    "g = table_fractions.plot(kind=\"bar\", stacked=True)\n",
    "plt.xticks(rotation=0)\n",
    "plt.xlabel('Family size', weight='bold')\n",
    "plt.ylabel('%')\n",
    "plt.tight_layout()\n",
    "leg = plt.legend(title='Sex', loc=9, bbox_to_anchor=(1.05, 1.0))"
   ]
  },
  {
   "cell_type": "markdown",
   "metadata": {},
   "source": [
    "Here we can see that the proportion of males is greatest for family size 1 (males traveling alone), and drops for family size of 2, 3, and 4 members (more females). This can explain the survival chances of those groups."
   ]
  },
  {
   "cell_type": "markdown",
   "metadata": {},
   "source": [
    "## Conclusions\n",
    "    \n",
    "* Women are more likely to have survived.\n",
    "* Many of the children survived.\n",
    "* Families (2 to 4 members) have better chances of survival.\n",
    "* There are clear relationships between sex, gender, and socio-economic status."
   ]
  },
  {
   "cell_type": "markdown",
   "metadata": {},
   "source": [
    "## References\n"
   ]
  },
  {
   "cell_type": "markdown",
   "metadata": {},
   "source": [
    "* [A Tour of Machine Learning in Python](https://rpmarchildon.com/ai-titanic/)\n",
    "* [Encyclopedia-titanica](https://www.encyclopedia-titanica.org/)."
   ]
  }
 ],
 "metadata": {
  "kernelspec": {
   "display_name": "Python 3",
   "language": "python",
   "name": "python3"
  },
  "language_info": {
   "codemirror_mode": {
    "name": "ipython",
    "version": 3
   },
   "file_extension": ".py",
   "mimetype": "text/x-python",
   "name": "python",
   "nbconvert_exporter": "python",
   "pygments_lexer": "ipython3",
   "version": "3.8.3"
  }
 },
 "nbformat": 4,
 "nbformat_minor": 4
}
