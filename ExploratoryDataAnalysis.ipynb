{
 "cells": [
  {
   "cell_type": "markdown",
   "metadata": {},
   "source": [
    "# Titanic ML Competition"
   ]
  },
  {
   "cell_type": "markdown",
   "metadata": {},
   "source": [
    "## Introduction"
   ]
  },
  {
   "cell_type": "markdown",
   "metadata": {},
   "source": [
    "In this notebook we will be exploring the data for the Titanic machine learning competition from [Kaggle](https://www.kaggle.com/c/titanic/overview). The goals of the notebook are to:\n",
    "* Better understand the data.\n",
    "* See data relationships.\n",
    "* Determine if there are patterns within the data.\n",
    "* See what sorts of people were more likely to survive the disaster.\n",
    "\n",
    "After this, we will create ML models to make predictions.\n",
    "\n",
    "*Introduction from Kaggle*\n",
    "```\n",
    "The sinking of the Titanic is one of the most infamous shipwrecks in history.\n",
    "\n",
    "On April 15, 1912, during her maiden voyage, the widely considered “unsinkable” RMS Titanic sank after colliding with an iceberg. Unfortunately, there weren’t enough lifeboats for everyone onboard, resulting in the death of 1502 out of 2224 passengers and crew.\n",
    "\n",
    "While there was some element of luck involved in surviving, it seems some groups of people were more likely to survive than others.\n",
    "\n",
    "In this challenge, we ask you to build a predictive model that answers the question: “what sorts of people were more likely to survive?” using passenger data (ie name, age, gender, socio-economic class, etc).\n",
    "```"
   ]
  },
  {
   "cell_type": "markdown",
   "metadata": {},
   "source": [
    "## Imports"
   ]
  },
  {
   "cell_type": "code",
   "execution_count": null,
   "metadata": {},
   "outputs": [],
   "source": [
    "import pandas as pd\n",
    "import numpy as np\n",
    "import matplotlib.pyplot as plt\n",
    "import seaborn as sns\n",
    "import squarify"
   ]
  },
  {
   "cell_type": "code",
   "execution_count": null,
   "metadata": {},
   "outputs": [],
   "source": [
    "from math import pi"
   ]
  },
  {
   "cell_type": "markdown",
   "metadata": {},
   "source": [
    "## Importing the dataset"
   ]
  },
  {
   "cell_type": "code",
   "execution_count": null,
   "metadata": {},
   "outputs": [],
   "source": [
    "titanic_df = pd.read_csv(\"Datasets/train.csv\")\n",
    "titanic_df.head()"
   ]
  },
  {
   "cell_type": "code",
   "execution_count": null,
   "metadata": {},
   "outputs": [],
   "source": [
    "titanic_df.info()"
   ]
  },
  {
   "cell_type": "markdown",
   "metadata": {},
   "source": [
    "From the table above we can see the different data types that pandas assigned each column and that we have some columns with missing values. Before starting to work with these, we have to clean the data. "
   ]
  },
  {
   "cell_type": "code",
   "execution_count": null,
   "metadata": {},
   "outputs": [],
   "source": [
    "titanic_df.isnull().sum()"
   ]
  },
  {
   "cell_type": "markdown",
   "metadata": {},
   "source": [
    "### Renaming of the columns & changing index"
   ]
  },
  {
   "cell_type": "markdown",
   "metadata": {},
   "source": [
    "Here we change some of the names of the columns that doesn't sound that meaningful. (For instance SibSp or Parch). Also we make the index the passenger id, as it makes more sense there."
   ]
  },
  {
   "cell_type": "code",
   "execution_count": null,
   "metadata": {},
   "outputs": [],
   "source": [
    "renamed_columns = {\"Pclass\":\"Economic status\",\"SibSp\":\"Number of siblings/spouses\",\"Parch\":\"Number of parents/children\"}\n",
    "titanic_df.rename(columns=renamed_columns,inplace = True)"
   ]
  },
  {
   "cell_type": "code",
   "execution_count": null,
   "metadata": {},
   "outputs": [],
   "source": [
    "titanic_df.set_index(titanic_df[\"PassengerId\"],inplace = True)\n",
    "titanic_df.drop(columns=\"PassengerId\",inplace=True)"
   ]
  },
  {
   "cell_type": "markdown",
   "metadata": {},
   "source": [
    "### Data types"
   ]
  },
  {
   "cell_type": "markdown",
   "metadata": {},
   "source": [
    "Now we will convert some columns to more appropriate data type, which will make things easier to work later. Additionally, this reduces the memory usage of the dataset."
   ]
  },
  {
   "cell_type": "markdown",
   "metadata": {},
   "source": [
    "The columns with object data type are candidates to be of categorical type. For this we check the cardinality they have."
   ]
  },
  {
   "cell_type": "code",
   "execution_count": null,
   "metadata": {},
   "outputs": [],
   "source": [
    "titanic_df.select_dtypes(include=['object']).nunique()"
   ]
  },
  {
   "cell_type": "code",
   "execution_count": null,
   "metadata": {},
   "outputs": [],
   "source": [
    "titanic_df[\"Sex\"] = titanic_df[\"Sex\"].astype(\"category\")\n",
    "titanic_df[\"Embarked\"] = titanic_df[\"Embarked\"].astype(\"category\")"
   ]
  },
  {
   "cell_type": "markdown",
   "metadata": {},
   "source": [
    "Other column that could be categorical is the one representing the economic status."
   ]
  },
  {
   "cell_type": "code",
   "execution_count": null,
   "metadata": {},
   "outputs": [],
   "source": [
    "titanic_df[\"Economic status\"] = titanic_df[\"Economic status\"].astype(\"category\")"
   ]
  },
  {
   "cell_type": "markdown",
   "metadata": {},
   "source": [
    "Not always is about converting columns to categorical data types, we can also convert numerical types that use 64 bits to smaller sizes (such as 8 bits, 16, 32). By doing this we can reduce even further the memory usage of the dataset."
   ]
  },
  {
   "cell_type": "markdown",
   "metadata": {},
   "source": [
    "Before converting SibSp/Parch to a an integer of smaller size, we have to check the maximum number they have. *(Max int of int8:127(signed))*"
   ]
  },
  {
   "cell_type": "code",
   "execution_count": null,
   "metadata": {},
   "outputs": [],
   "source": [
    "titanic_df[[\"Number of siblings/spouses\",\"Number of parents/children\"]].max()"
   ]
  },
  {
   "cell_type": "markdown",
   "metadata": {},
   "source": [
    "As there is no problem we can make the conversions."
   ]
  },
  {
   "cell_type": "code",
   "execution_count": null,
   "metadata": {},
   "outputs": [],
   "source": [
    "titanic_df[\"Number of siblings/spouses\"] = titanic_df[\"Number of siblings/spouses\"].astype(\"int8\")\n",
    "titanic_df[\"Number of parents/children\"] = titanic_df[\"Number of parents/children\"].astype(\"int8\")"
   ]
  },
  {
   "cell_type": "code",
   "execution_count": null,
   "metadata": {},
   "outputs": [],
   "source": [
    "titanic_df[\"Survived\"] = titanic_df[\"Survived\"].astype(\"int8\")"
   ]
  },
  {
   "cell_type": "markdown",
   "metadata": {},
   "source": [
    "### Missing values"
   ]
  },
  {
   "cell_type": "markdown",
   "metadata": {},
   "source": [
    "This is one of the most important things to do in data analysis. It will be mainly develop on the different preprocessings to the data for the models. Now we are just going to remove the `ticket` column because it doesn't seem like it will be useful, plus we will be filling the missings from the `cabin` column with `-`."
   ]
  },
  {
   "cell_type": "code",
   "execution_count": null,
   "metadata": {},
   "outputs": [],
   "source": [
    "titanic_df[\"Cabin\"].fillna(\"-\",inplace=True)"
   ]
  },
  {
   "cell_type": "code",
   "execution_count": null,
   "metadata": {},
   "outputs": [],
   "source": [
    "titanic_df.drop(columns=[\"Ticket\"],inplace=True)"
   ]
  },
  {
   "cell_type": "markdown",
   "metadata": {},
   "source": [
    "### Data conversions"
   ]
  },
  {
   "cell_type": "markdown",
   "metadata": {},
   "source": [
    "Here we change some of the texts the data has, so that they are more meaningful."
   ]
  },
  {
   "cell_type": "code",
   "execution_count": null,
   "metadata": {},
   "outputs": [],
   "source": [
    "new_economic_status_names = {1:\"Upper\",2:\"Middle\",3:\"Lower\"}\n",
    "titanic_df[\"Economic status\"].cat.rename_categories(new_economic_status_names,inplace=True)"
   ]
  },
  {
   "cell_type": "code",
   "execution_count": null,
   "metadata": {},
   "outputs": [],
   "source": [
    "new_port_names = {\"C\":\"Cherbourg\",\"Q\":\"Queenstown\",\"S\":\"Southhampton\"}\n",
    "titanic_df[\"Embarked\"].cat.rename_categories(new_port_names,inplace = True)"
   ]
  },
  {
   "cell_type": "code",
   "execution_count": null,
   "metadata": {},
   "outputs": [],
   "source": [
    "new_sex = {\"male\":\"Male\",\"female\":\"Female\"}\n",
    "titanic_df[\"Sex\"].cat.rename_categories(new_sex,inplace = True)"
   ]
  },
  {
   "cell_type": "markdown",
   "metadata": {},
   "source": [
    "### Reordering columns"
   ]
  },
  {
   "cell_type": "markdown",
   "metadata": {},
   "source": [
    "Finally, we order the dataset in a more relevant way."
   ]
  },
  {
   "cell_type": "code",
   "execution_count": null,
   "metadata": {},
   "outputs": [],
   "source": [
    "personal_info = [\"Name\",\"Sex\",\"Age\"]\n",
    "economic_status = [\"Economic status\",\"Fare\"]\n",
    "family = [\"Number of siblings/spouses\",\"Number of parents/children\"]\n",
    "journey = [\"Cabin\",\"Embarked\",\"Survived\"]\n",
    "new_order = personal_info + economic_status + family + journey\n",
    "titanic_df = titanic_df.reindex(columns = new_order)"
   ]
  },
  {
   "cell_type": "markdown",
   "metadata": {},
   "source": [
    "### Dataset after handling it"
   ]
  },
  {
   "cell_type": "code",
   "execution_count": null,
   "metadata": {},
   "outputs": [],
   "source": [
    "titanic_df.info()"
   ]
  },
  {
   "cell_type": "markdown",
   "metadata": {},
   "source": [
    "Here we can see that the memory usage was reduced by approximately ~40KB."
   ]
  },
  {
   "cell_type": "code",
   "execution_count": null,
   "metadata": {},
   "outputs": [],
   "source": [
    "titanic_df.head()"
   ]
  },
  {
   "cell_type": "markdown",
   "metadata": {},
   "source": [
    "## Exploratory Data Analysis"
   ]
  },
  {
   "cell_type": "markdown",
   "metadata": {},
   "source": [
    "First, let's start by asking some simple questions that will get us closer to the question that matters. What sorts of people were more likely to survive?\n",
    "* How many survived?\n",
    "* How much does the sex determine the chances of survival?\n",
    "* What about the age?\n",
    "* Does the economic status helps to determine it?"
   ]
  },
  {
   "cell_type": "markdown",
   "metadata": {},
   "source": [
    "### How many survived the disaster?"
   ]
  },
  {
   "cell_type": "code",
   "execution_count": null,
   "metadata": {},
   "outputs": [],
   "source": [
    "survival_values = titanic_df['Survived'].value_counts()\n",
    "names = ['Died',\"Survived\"]\n",
    "plt.figure(figsize=(10, 5), dpi=100)\n",
    " \n",
    "plt.subplot2grid(shape=(1,2),loc=(0,0))\n",
    "plt.bar(x=survival_values.index,height=survival_values.values,color=['lightcoral', 'lightgreen'])\n",
    "plt.xticks(survival_values.index,names)\n",
    "plt.title(\"Amount of people that survived\")\n",
    "\n",
    "plt.subplot2grid(shape=(1,2),loc=(0,1))\n",
    "plt.pie(survival_values, labels=names,colors=['lightcoral', 'lightgreen'], autopct='%1.0f%%')\n",
    "plt.title(\"Proportion of people that survived\")\n",
    "\n",
    "plt.suptitle('Survival numbers')\n",
    "plt.show()"
   ]
  },
  {
   "cell_type": "markdown",
   "metadata": {},
   "source": [
    "We can see that approximately 40% of the passengers survived."
   ]
  },
  {
   "cell_type": "markdown",
   "metadata": {},
   "source": [
    "### How much does the sex affect the chances of survival?"
   ]
  },
  {
   "cell_type": "markdown",
   "metadata": {},
   "source": [
    "Let's begin by seeing the proportions of the passengers."
   ]
  },
  {
   "cell_type": "code",
   "execution_count": null,
   "metadata": {},
   "outputs": [],
   "source": [
    "sex_proportions = titanic_df[\"Sex\"].value_counts()\n",
    "circle=plt.Circle( (0,0), 0.7, color='white')\n",
    "plt.figure(dpi=80)\n",
    "plt.pie(sex_proportions.values, labels=sex_proportions.index, colors=['goldenrod','salmon'],autopct='%1.0f%%')\n",
    "p=plt.gcf()\n",
    "p.gca().add_artist(circle)\n",
    "plt.suptitle('Proportion of passengers')\n",
    "plt.show()"
   ]
  },
  {
   "cell_type": "markdown",
   "metadata": {},
   "source": [
    "Now let's see the survival rate."
   ]
  },
  {
   "cell_type": "code",
   "execution_count": null,
   "metadata": {},
   "outputs": [],
   "source": [
    "survival_by_sex = titanic_df.groupby(by=\"Sex\")[\"Survived\"].agg(\"mean\")\n",
    "survival_by_sex"
   ]
  },
  {
   "cell_type": "code",
   "execution_count": null,
   "metadata": {},
   "outputs": [],
   "source": [
    "plt.figure(figsize=(4, 4), dpi=100)\n",
    "plt.bar(x=survival_by_sex.index,height=survival_by_sex.values,color=['palevioletred', 'cadetblue'])\n",
    "plt.ylim(top=1)\n",
    "plt.title(\"Proportions of people that survived by sex\")"
   ]
  },
  {
   "cell_type": "markdown",
   "metadata": {},
   "source": [
    "We can clearly see that women proportionally had a greater survival rate than men."
   ]
  },
  {
   "cell_type": "markdown",
   "metadata": {},
   "source": [
    "### What about the age?"
   ]
  },
  {
   "cell_type": "markdown",
   "metadata": {},
   "source": [
    "Can we see a pattern by exploring the age? Let's try to see if the children were more likely to survive."
   ]
  },
  {
   "cell_type": "code",
   "execution_count": null,
   "metadata": {},
   "outputs": [],
   "source": [
    "sns.distplot( a=titanic_df[\"Age\"], hist=True, kde=False, rug=False )\n",
    "plt.title(\"Age distribution\")\n",
    "plt.show()"
   ]
  },
  {
   "cell_type": "markdown",
   "metadata": {},
   "source": [
    "We can see that the main group of people that was on the ship were adults, followed by children and then by old people."
   ]
  },
  {
   "cell_type": "code",
   "execution_count": null,
   "metadata": {},
   "outputs": [],
   "source": [
    "sns.violinplot(x=titanic_df[\"Survived\"], y=titanic_df[\"Age\"])\n",
    "\n",
    "plt.title(\"Age distribution\") \n",
    "plt.show()"
   ]
  },
  {
   "cell_type": "markdown",
   "metadata": {},
   "source": [
    "Here we can see that children were more likely to survive by looking at the start of it."
   ]
  },
  {
   "cell_type": "code",
   "execution_count": null,
   "metadata": {},
   "outputs": [],
   "source": [
    "children = titanic_df[\"Age\"] < 13\n",
    "survived = titanic_df[\"Survived\"] == 1\n",
    "survived_age = titanic_df.loc[survived & children,\"Age\"]\n",
    "died_age = titanic_df.loc[(~survived) & children,\"Age\"]"
   ]
  },
  {
   "cell_type": "code",
   "execution_count": null,
   "metadata": {},
   "outputs": [],
   "source": [
    "survived_age.count()"
   ]
  },
  {
   "cell_type": "code",
   "execution_count": null,
   "metadata": {},
   "outputs": [],
   "source": [
    "died_age.count()"
   ]
  },
  {
   "cell_type": "markdown",
   "metadata": {},
   "source": [
    "### Does the economic status helps to determine it?"
   ]
  },
  {
   "cell_type": "code",
   "execution_count": null,
   "metadata": {},
   "outputs": [],
   "source": [
    "total_class_members = titanic_df[\"Economic status\"].value_counts(normalize=True).round(2)"
   ]
  },
  {
   "cell_type": "code",
   "execution_count": null,
   "metadata": {},
   "outputs": [],
   "source": [
    "survival_by_status = titanic_df.groupby(by=\"Economic status\")[\"Survived\"].value_counts(normalize=True).round(2)\n",
    "survival_by_status = survival_by_status.unstack().reset_index()\n",
    "survival_by_status.index = survival_by_status[\"Economic status\"]\n",
    "survival_by_status = survival_by_status.drop(columns=\"Economic status\")"
   ]
  },
  {
   "cell_type": "code",
   "execution_count": null,
   "metadata": {},
   "outputs": [],
   "source": [
    "renamed_columns = {0:\"Died\",1:\"Survived\"}\n",
    "survival_by_status = survival_by_status.rename(columns=renamed_columns)\n",
    "survival_by_status.columns.name = None\n",
    "survival_by_status"
   ]
  },
  {
   "cell_type": "code",
   "execution_count": null,
   "metadata": {},
   "outputs": [],
   "source": [
    "plt.figure(figsize=(10, 5), dpi=100)\n",
    " \n",
    "plt.subplot2grid(shape=(1,2),loc=(0,0))\n",
    "squarify.plot(sizes=total_class_members,value=total_class_members, label=total_class_members.index, alpha=.8,color=['sienna', 'gold','lawngreen'])\n",
    "plt.axis('off')  \n",
    "plt.title(\"% of people according to economic status\")   \n",
    "    \n",
    "plt.subplot2grid(shape=(1,2),loc=(0,1))\n",
    "plt.bar(x=survival_by_status.index,height=survival_by_status[\"Survived\"].values,color=['gold', 'lawngreen','sienna'])\n",
    "plt.ylim(top=1)\n",
    "plt.title(\"% of people that survived by class\")\n",
    "\n",
    "plt.show()"
   ]
  },
  {
   "cell_type": "markdown",
   "metadata": {},
   "source": [
    "On the graphs we can see that people from lower class were more likely to die than from upper class."
   ]
  },
  {
   "cell_type": "markdown",
   "metadata": {},
   "source": [
    "### What happened to the families?"
   ]
  },
  {
   "cell_type": "markdown",
   "metadata": {},
   "source": [
    "Here we will see if people with families had more chances of survival.\n",
    "\n",
    "The dataset includes 2 attributes which count the number of members of each group.\n",
    "* Number of siblings/spouses (sibsp):\n",
    "    * Sibling = brother, sister, stepbrother, stepsister\n",
    "    * Spouse = husband, wife (mistresses and fiancés were ignored)\n",
    "\n",
    "* Number of parents/children (parch):\n",
    "    * Parent = mother, father\n",
    "    * Child = daughter, son, stepdaughter, stepson\n",
    "    \n",
    "*Note: Some children travelled only with a nanny, therefore parch=0 for them.*"
   ]
  },
  {
   "cell_type": "code",
   "execution_count": null,
   "metadata": {},
   "outputs": [],
   "source": [
    "titanic_df[\"Number of siblings/spouses\"].value_counts()"
   ]
  },
  {
   "cell_type": "code",
   "execution_count": null,
   "metadata": {},
   "outputs": [],
   "source": [
    "titanic_df[\"Number of parents/children\"].value_counts()"
   ]
  },
  {
   "cell_type": "markdown",
   "metadata": {},
   "source": [
    "We can see that the majority of the passengers traveled alone."
   ]
  },
  {
   "cell_type": "code",
   "execution_count": null,
   "metadata": {},
   "outputs": [],
   "source": [
    "new_name = {\"Number of siblings/spouses\":\"Total\"}\n",
    "sibsp = titanic_df.groupby(by=\"Number of siblings/spouses\")[\"Survived\"].value_counts(normalize=True).to_frame().unstack()\n",
    "sibsp = sibsp.fillna(0)\n",
    "sibsp.columns = sibsp.columns.get_level_values(1)\n",
    "sibsp.columns.name = None\n",
    "sibsp = sibsp.rename(columns={0:\"Died\",1:\"Survived\"}) \n",
    "sibsp"
   ]
  },
  {
   "cell_type": "code",
   "execution_count": null,
   "metadata": {},
   "outputs": [],
   "source": []
  },
  {
   "cell_type": "code",
   "execution_count": null,
   "metadata": {},
   "outputs": [],
   "source": [
    "bar_width = 0.3\n",
    "start_first_bar = sibsp.index-bar_width/2\n",
    "start_second_bar = sibsp.index+bar_width/2\n",
    "\n",
    "plt.figure(figsize=(10, 4), dpi=100)\n",
    "plt.bar(start_first_bar, sibsp[\"Died\"], width = bar_width, color = 'lightcoral', edgecolor = 'black', label='Died')\n",
    "plt.bar(start_second_bar, sibsp[\"Survived\"], width = bar_width, color = 'lightgreen', edgecolor = 'black',  label='Survived')\n",
    "plt.xticks(sibsp.index)\n",
    "plt.ylabel('%')\n",
    "plt.legend()\n",
    "plt.title(\"Survival by number of siblings/spouses\")\n",
    "plt.show()"
   ]
  },
  {
   "cell_type": "markdown",
   "metadata": {},
   "source": [
    "In the graph we can see that those with one or two siblings/spouses seem more likely to survive. Let's see now with the parents and children."
   ]
  },
  {
   "cell_type": "code",
   "execution_count": null,
   "metadata": {},
   "outputs": [],
   "source": [
    "new_name = {\"Number of parents/children\":\"Total\"}\n",
    "parch = titanic_df.groupby(by=\"Number of parents/children\")[\"Survived\"].value_counts(normalize=True).to_frame().unstack()\n",
    "parch = parch.fillna(0)\n",
    "parch.columns = parch.columns.get_level_values(1)\n",
    "parch.columns.name = None\n",
    "parch = parch.rename(columns={0:\"Died\",1:\"Survived\"}) \n",
    "parch"
   ]
  },
  {
   "cell_type": "code",
   "execution_count": null,
   "metadata": {},
   "outputs": [],
   "source": [
    "bar_width = 0.3\n",
    "start_first_bar = parch.index-bar_width/2\n",
    "start_second_bar = parch.index+bar_width/2\n",
    "\n",
    "plt.figure(figsize=(10, 4), dpi=100)\n",
    "plt.bar(start_first_bar, parch[\"Died\"], width = bar_width, color = 'lightcoral', edgecolor = 'black', label='Died')\n",
    "plt.bar(start_second_bar, parch[\"Survived\"], width = bar_width, color = 'lightgreen', edgecolor = 'black',  label='Survived')\n",
    "plt.xticks(parch.index)\n",
    "plt.ylabel('%')\n",
    "plt.legend()\n",
    "plt.title(\"Survival by number of parents/children\")\n",
    "plt.show()"
   ]
  },
  {
   "cell_type": "markdown",
   "metadata": {},
   "source": [
    "In this case we can see again that those with a family were more likely to survive than those that wet alone."
   ]
  },
  {
   "cell_type": "markdown",
   "metadata": {},
   "source": [
    "### Is there any relationship with the embarkation port?"
   ]
  },
  {
   "cell_type": "markdown",
   "metadata": {},
   "source": [
    "In this section we will see if people that embarked in a certain port survived more than from the others."
   ]
  },
  {
   "cell_type": "code",
   "execution_count": null,
   "metadata": {},
   "outputs": [],
   "source": [
    "embark_ports = titanic_df[\"Embarked\"].value_counts(normalize=True).round(2)"
   ]
  },
  {
   "cell_type": "code",
   "execution_count": null,
   "metadata": {},
   "outputs": [],
   "source": [
    "survival_by_ports = titanic_df.groupby(by=\"Embarked\")[\"Survived\"].agg(\"mean\")"
   ]
  },
  {
   "cell_type": "code",
   "execution_count": null,
   "metadata": {},
   "outputs": [],
   "source": [
    "plt.figure(figsize=(10, 4), dpi=100)\n",
    "plt.subplot2grid(shape=(1,2),loc=(0,0))\n",
    "squarify.plot(sizes=embark_ports,value=embark_ports, label=embark_ports.index, alpha=.8,color=['darkslategrey', 'slategrey','cornflowerblue'])\n",
    "plt.axis('off')  \n",
    "plt.title(\"% of people from each port\")   \n",
    "\n",
    "plt.subplot2grid(shape=(1,2),loc=(0,1))\n",
    "plt.bar(survival_by_ports.index, survival_by_ports.values, color = ['slategrey', 'cornflowerblue','darkslategrey'], alpha = 0.6)\n",
    "plt.ylim(top=1)\n",
    "plt.ylabel('%')\n",
    "plt.title(\"Survival by port of embarkation\")\n",
    "plt.show()"
   ]
  },
  {
   "cell_type": "markdown",
   "metadata": {},
   "source": [
    "We can see that those that embarked in Cherbourg had slightly better chances, though we have to take into account that Southhampton was the port from which most of the people embarked."
   ]
  },
  {
   "cell_type": "markdown",
   "metadata": {},
   "source": [
    "### Let's see the relationship between variables now"
   ]
  },
  {
   "cell_type": "markdown",
   "metadata": {},
   "source": [
    "Now that we have seen each individual variable in its own, let's start to look for correlations between them."
   ]
  },
  {
   "cell_type": "code",
   "execution_count": null,
   "metadata": {},
   "outputs": [],
   "source": [
    "sns.lmplot( x='Age', y='Fare',data=titanic_df,fit_reg=False, hue='Survived', legend=True,height=7,aspect=1.5,markers=[\"x\",\"o\"],palette=['red','green'])\n",
    "plt.title(\"Age/Fare with survival\")\n",
    "plt.show()"
   ]
  },
  {
   "cell_type": "markdown",
   "metadata": {},
   "source": [
    "In this graph we can clearly see that those that paid a higher fare likely survived. Let's see if we can get a better view by making a graph for each sex."
   ]
  },
  {
   "cell_type": "code",
   "execution_count": null,
   "metadata": {},
   "outputs": [],
   "source": [
    "columns = [\"Age\",\"Fare\",\"Survived\"]\n",
    "is_male = titanic_df[\"Sex\"] == \"Male\"\n",
    "fare_limit = titanic_df[\"Fare\"] < 300 # So that we can see better the lower values\n",
    "age_fare_male = titanic_df.loc[is_male & fare_limit,columns]\n",
    "age_fare_female = titanic_df.loc[(~is_male) & fare_limit,columns]"
   ]
  },
  {
   "cell_type": "code",
   "execution_count": null,
   "metadata": {},
   "outputs": [],
   "source": [
    "sns.lmplot( x='Age', y='Fare',data=age_fare_male,fit_reg=False, hue='Survived', legend=True,height=7,aspect=1.5,markers=[\"x\",\"o\"],palette=['red','green'])\n",
    "plt.title(\"Age/Fare with survival, male\")\n",
    "plt.show()"
   ]
  },
  {
   "cell_type": "code",
   "execution_count": null,
   "metadata": {},
   "outputs": [],
   "source": [
    "sns.lmplot( x='Age', y='Fare',data=age_fare_female,fit_reg=False, hue='Survived', legend=True,height=7,aspect=1.5,markers=[\"x\",\"o\"],palette=['red','green'])\n",
    "plt.title(\"Age/Fare with survival, female\")\n",
    "plt.show()"
   ]
  },
  {
   "cell_type": "markdown",
   "metadata": {},
   "source": [
    "This graph further confirms what we saw before, women more likely survived. In addition, we can see that also with the children."
   ]
  },
  {
   "cell_type": "markdown",
   "metadata": {},
   "source": [
    "Let's try to draw the boundaries of the socio-economic status by looking at different numerical values."
   ]
  },
  {
   "cell_type": "code",
   "execution_count": null,
   "metadata": {},
   "outputs": [],
   "source": [
    "titanic_df.groupby(by=\"Economic status\")[\"Fare\"].agg([\"min\",\"mean\",\"max\",\"std\"]).round(2)"
   ]
  },
  {
   "cell_type": "markdown",
   "metadata": {},
   "source": [
    "Seeing that the minimum fare was 0 for all economic status, I decided to take a look at these particular cases. "
   ]
  },
  {
   "cell_type": "code",
   "execution_count": null,
   "metadata": {},
   "outputs": [],
   "source": [
    "titanic_df.loc[titanic_df[\"Fare\"] == 0]"
   ]
  },
  {
   "cell_type": "markdown",
   "metadata": {},
   "source": [
    "By investigating a little, it turned out that these people boarded the ship without paying a fare for different reasons. For example, Andrews, Mr. Thomas Jr. was the naval architect for the ship, while others were part of the [\"guarantee group\"](https://www.encyclopedia-titanica.org/titanic-guarantee-group/). More info on [encyclopedia-titanica](https://www.encyclopedia-titanica.org/).\n",
    "\n",
    "\n",
    "Let's continue without taking into account these cases."
   ]
  },
  {
   "cell_type": "code",
   "execution_count": null,
   "metadata": {},
   "outputs": [],
   "source": [
    "passengers_with_fare = titanic_df.loc[titanic_df[\"Fare\"]>0]\n",
    "passengers_with_fare.groupby(by=\"Economic status\")[\"Fare\"].agg([\"min\",\"mean\",\"max\",\"std\"]).round(2)"
   ]
  },
  {
   "cell_type": "markdown",
   "metadata": {},
   "source": [
    "By taking into account the mean and standard deviation, we can see that some groups overlap between each other in parts, thus blurring the boundaries. "
   ]
  },
  {
   "cell_type": "code",
   "execution_count": null,
   "metadata": {},
   "outputs": [],
   "source": [
    "# TODO: Sex/Class"
   ]
  },
  {
   "cell_type": "markdown",
   "metadata": {},
   "source": [
    "## Conclusions\n",
    "    \n",
    "* Women were more likely to have survived.\n",
    "* Many of the children survived.\n",
    "* Families have better chances of survival.\n",
    "* There are clear relationships between sex, gender, and socio-economic status."
   ]
  }
 ],
 "metadata": {
  "kernelspec": {
   "display_name": "Python 3",
   "language": "python",
   "name": "python3"
  },
  "language_info": {
   "codemirror_mode": {
    "name": "ipython",
    "version": 3
   },
   "file_extension": ".py",
   "mimetype": "text/x-python",
   "name": "python",
   "nbconvert_exporter": "python",
   "pygments_lexer": "ipython3",
   "version": "3.8.3"
  }
 },
 "nbformat": 4,
 "nbformat_minor": 4
}
