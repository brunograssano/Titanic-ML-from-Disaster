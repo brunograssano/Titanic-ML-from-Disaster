{
 "cells": [
  {
   "cell_type": "markdown",
   "metadata": {},
   "source": [
    "# Titanic ML Competition"
   ]
  },
  {
   "cell_type": "markdown",
   "metadata": {},
   "source": [
    "## Introduction"
   ]
  },
  {
   "cell_type": "markdown",
   "metadata": {},
   "source": [
    "In this notebook we will be exploring the data for the Titanic machine learning competition from [Kaggle](https://www.kaggle.com/c/titanic/overview). The goals of the notebook are to:\n",
    "* Better understand the data.\n",
    "* See data relationships.\n",
    "* Determine if there are patterns within the data.\n",
    "* See what sorts of people were more likely to survive the disaster.\n",
    "\n",
    "After this, we will create ML models to make predictions.\n",
    "\n",
    "*Introduction from Kaggle*\n",
    "```\n",
    "The sinking of the Titanic is one of the most infamous shipwrecks in history.\n",
    "\n",
    "On April 15, 1912, during her maiden voyage, the widely considered “unsinkable” RMS Titanic sank after colliding with an iceberg. Unfortunately, there weren’t enough lifeboats for everyone onboard, resulting in the death of 1502 out of 2224 passengers and crew.\n",
    "\n",
    "While there was some element of luck involved in surviving, it seems some groups of people were more likely to survive than others.\n",
    "\n",
    "In this challenge, we ask you to build a predictive model that answers the question: “what sorts of people were more likely to survive?” using passenger data (ie name, age, gender, socio-economic class, etc).\n",
    "```\n",
    "<center>\n",
    "    <img src='https://miro.medium.com/max/2000/1*fBkTkunRJ88FdEXEcGU_fg.jpeg' heigh=400 width=400>\n",
    "</center>"
   ]
  },
  {
   "cell_type": "markdown",
   "metadata": {},
   "source": [
    "## Imports"
   ]
  },
  {
   "cell_type": "code",
   "execution_count": null,
   "metadata": {},
   "outputs": [],
   "source": [
    "import pandas as pd\n",
    "import numpy as np\n",
    "import matplotlib.pyplot as plt\n",
    "import seaborn as sns\n",
    "import squarify"
   ]
  },
  {
   "cell_type": "code",
   "execution_count": null,
   "metadata": {},
   "outputs": [],
   "source": [
    "from math import pi"
   ]
  },
  {
   "cell_type": "code",
   "execution_count": null,
   "metadata": {},
   "outputs": [],
   "source": [
    "from preprocessing import encodeDataset\n",
    "from preprocessing import encodeAndNormalizeData"
   ]
  },
  {
   "cell_type": "code",
   "execution_count": null,
   "metadata": {},
   "outputs": [],
   "source": [
    "from sklearn.model_selection import train_test_split\n",
    "from sklearn.metrics import classification_report\n",
    "\n",
    "from sklearn.model_selection import KFold, StratifiedKFold\n",
    "from sklearn.model_selection import GridSearchCV"
   ]
  },
  {
   "cell_type": "code",
   "execution_count": null,
   "metadata": {},
   "outputs": [],
   "source": [
    "from sklearn.neighbors import KNeighborsClassifier\n",
    "from sklearn.svm import SVC\n",
    "from sklearn.linear_model import LogisticRegression\n",
    "from sklearn.tree import DecisionTreeClassifier"
   ]
  },
  {
   "cell_type": "markdown",
   "metadata": {},
   "source": [
    "## Importing the dataset"
   ]
  },
  {
   "cell_type": "code",
   "execution_count": null,
   "metadata": {},
   "outputs": [],
   "source": [
    "titanic_df = pd.read_csv(\"Datasets/train.csv\")\n",
    "titanic_df.head()"
   ]
  },
  {
   "cell_type": "code",
   "execution_count": null,
   "metadata": {},
   "outputs": [],
   "source": [
    "titanic_df.info()"
   ]
  },
  {
   "cell_type": "markdown",
   "metadata": {},
   "source": [
    "From the table above we can see the different data types that pandas assigned each column and that we have some columns with missing values. Before starting to work with these, we have to clean the data. "
   ]
  },
  {
   "cell_type": "markdown",
   "metadata": {},
   "source": [
    "### Renaming of the columns & changing index"
   ]
  },
  {
   "cell_type": "markdown",
   "metadata": {},
   "source": [
    "Here we change some of the names of the columns that doesn't sound that meaningful. (For instance SibSp or Parch). Also we make the index the passenger id, as it makes more sense there."
   ]
  },
  {
   "cell_type": "code",
   "execution_count": null,
   "metadata": {},
   "outputs": [],
   "source": [
    "renamed_columns = {\"Pclass\":\"Economic status\",\"SibSp\":\"Number of siblings/spouses\",\"Parch\":\"Number of parents/children\"}\n",
    "titanic_df.rename(columns=renamed_columns,inplace = True)"
   ]
  },
  {
   "cell_type": "code",
   "execution_count": null,
   "metadata": {},
   "outputs": [],
   "source": [
    "titanic_df.set_index(titanic_df[\"PassengerId\"],inplace = True)\n",
    "titanic_df.drop(columns=\"PassengerId\",inplace=True)"
   ]
  },
  {
   "cell_type": "markdown",
   "metadata": {},
   "source": [
    "### Data types"
   ]
  },
  {
   "cell_type": "markdown",
   "metadata": {},
   "source": [
    "Now we will convert some columns to more appropriate data type, which will make things easier to work later. Additionally, this reduces the memory usage of the dataset."
   ]
  },
  {
   "cell_type": "markdown",
   "metadata": {},
   "source": [
    "The columns with object data type are candidates to be of categorical type. For this we check the cardinality they have."
   ]
  },
  {
   "cell_type": "code",
   "execution_count": null,
   "metadata": {},
   "outputs": [],
   "source": [
    "titanic_df.select_dtypes(include=['object']).nunique()"
   ]
  },
  {
   "cell_type": "code",
   "execution_count": null,
   "metadata": {},
   "outputs": [],
   "source": [
    "titanic_df[\"Sex\"] = titanic_df[\"Sex\"].astype(\"category\")\n",
    "titanic_df[\"Embarked\"] = titanic_df[\"Embarked\"].astype(\"category\")"
   ]
  },
  {
   "cell_type": "markdown",
   "metadata": {},
   "source": [
    "Other column that could be categorical is the one representing the economic status."
   ]
  },
  {
   "cell_type": "code",
   "execution_count": null,
   "metadata": {},
   "outputs": [],
   "source": [
    "titanic_df[\"Economic status\"] = titanic_df[\"Economic status\"].astype(\"category\")"
   ]
  },
  {
   "cell_type": "markdown",
   "metadata": {},
   "source": [
    "Not always is about converting columns to categorical data types, we can also convert numerical types that use 64 bits to smaller sizes (such as 8 bits, 16, 32). By doing this we can reduce even further the memory usage of the dataset."
   ]
  },
  {
   "cell_type": "markdown",
   "metadata": {},
   "source": [
    "Before converting SibSp/Parch to a an integer of smaller size, we have to check the maximum number they have. *(Max int of int8:127(signed))*"
   ]
  },
  {
   "cell_type": "code",
   "execution_count": null,
   "metadata": {},
   "outputs": [],
   "source": [
    "titanic_df[[\"Number of siblings/spouses\",\"Number of parents/children\"]].max()"
   ]
  },
  {
   "cell_type": "markdown",
   "metadata": {},
   "source": [
    "As there is no problem we can make the conversions."
   ]
  },
  {
   "cell_type": "code",
   "execution_count": null,
   "metadata": {},
   "outputs": [],
   "source": [
    "titanic_df[\"Number of siblings/spouses\"] = titanic_df[\"Number of siblings/spouses\"].astype(\"int8\")\n",
    "titanic_df[\"Number of parents/children\"] = titanic_df[\"Number of parents/children\"].astype(\"int8\")"
   ]
  },
  {
   "cell_type": "code",
   "execution_count": null,
   "metadata": {},
   "outputs": [],
   "source": [
    "titanic_df[\"Survived\"] = titanic_df[\"Survived\"].astype(\"int8\")"
   ]
  },
  {
   "cell_type": "markdown",
   "metadata": {},
   "source": [
    "### Missing values"
   ]
  },
  {
   "cell_type": "markdown",
   "metadata": {},
   "source": [
    "This is one of the most important things to do in data analysis. Let's see what we got."
   ]
  },
  {
   "cell_type": "code",
   "execution_count": null,
   "metadata": {},
   "outputs": [],
   "source": [
    "titanic_df.isnull().sum()"
   ]
  },
  {
   "cell_type": "markdown",
   "metadata": {},
   "source": [
    "Let's start with the embarked values. As these are 2 cases and we can find the information missing online with some research, we can complete this with the real values. If there were more we could use the mode."
   ]
  },
  {
   "cell_type": "code",
   "execution_count": null,
   "metadata": {},
   "outputs": [],
   "source": [
    "embarked_is_null = titanic_df[\"Embarked\"].isnull()\n",
    "titanic_df.loc[embarked_is_null]"
   ]
  },
  {
   "cell_type": "code",
   "execution_count": null,
   "metadata": {},
   "outputs": [],
   "source": [
    "titanic_df.loc[62,\"Embarked\"] = \"S\"\n",
    "titanic_df.loc[830,\"Embarked\"] = \"S\""
   ]
  },
  {
   "cell_type": "markdown",
   "metadata": {},
   "source": [
    "For the cabin we have a lot of missing values, so for now we are going to mark them with a '-'."
   ]
  },
  {
   "cell_type": "code",
   "execution_count": null,
   "metadata": {},
   "outputs": [],
   "source": [
    "titanic_df[\"Cabin\"].fillna(\"-\",inplace=True)"
   ]
  },
  {
   "cell_type": "markdown",
   "metadata": {},
   "source": [
    "For the age we can use the title to predict it, so we split the name and use the mean age for that title."
   ]
  },
  {
   "cell_type": "code",
   "execution_count": null,
   "metadata": {},
   "outputs": [],
   "source": [
    "titanic_df['Surname'] = titanic_df['Name'].str.split(', ', expand=True)[0]\n",
    "titanic_df['Title'] =  titanic_df['Name'].str.split(', ', expand=True)[1].str.split('. ', expand=True)[0]"
   ]
  },
  {
   "cell_type": "markdown",
   "metadata": {},
   "source": [
    "Before we change them we mark these cases so that if we want we can assign them less importance."
   ]
  },
  {
   "cell_type": "code",
   "execution_count": null,
   "metadata": {},
   "outputs": [],
   "source": [
    "titanic_df[\"Completed age\"] = titanic_df[\"Age\"].isnull()"
   ]
  },
  {
   "cell_type": "code",
   "execution_count": null,
   "metadata": {},
   "outputs": [],
   "source": [
    "title_count = titanic_df[\"Title\"].value_counts()\n",
    "title_count"
   ]
  },
  {
   "cell_type": "markdown",
   "metadata": {},
   "source": [
    "We can see that we have some uncommon titles, for these we check if any of these is null."
   ]
  },
  {
   "cell_type": "code",
   "execution_count": null,
   "metadata": {},
   "outputs": [],
   "source": [
    "uncommon_titles = title_count[titanic_df[\"Title\"]] < 8\n",
    "uncommon_titles.index = titanic_df.index"
   ]
  },
  {
   "cell_type": "code",
   "execution_count": null,
   "metadata": {},
   "outputs": [],
   "source": [
    "null_age = titanic_df[\"Age\"].isnull()"
   ]
  },
  {
   "cell_type": "code",
   "execution_count": null,
   "metadata": {},
   "outputs": [],
   "source": [
    "titanic_df.loc[uncommon_titles & null_age,[\"Title\",\"Age\"]]"
   ]
  },
  {
   "cell_type": "markdown",
   "metadata": {},
   "source": [
    "We have only one person with an uncommon title (Dr.), but in this case we have some other cases to predict this one."
   ]
  },
  {
   "cell_type": "code",
   "execution_count": null,
   "metadata": {},
   "outputs": [],
   "source": [
    "age_by_title = titanic_df.groupby(by=\"Title\")[\"Age\"].agg(\"mean\")"
   ]
  },
  {
   "cell_type": "code",
   "execution_count": null,
   "metadata": {},
   "outputs": [],
   "source": [
    "age_for_nan = age_by_title[titanic_df.loc[null_age,\"Title\"]]\n",
    "age_for_nan.index = titanic_df[null_age].index"
   ]
  },
  {
   "cell_type": "code",
   "execution_count": null,
   "metadata": {},
   "outputs": [],
   "source": [
    "titanic_df.loc[null_age,\"Age\"] = age_for_nan"
   ]
  },
  {
   "cell_type": "markdown",
   "metadata": {},
   "source": [
    "Now we change these values on the dataset to prevent overfitting later."
   ]
  },
  {
   "cell_type": "code",
   "execution_count": null,
   "metadata": {},
   "outputs": [],
   "source": [
    "titanic_df.loc[uncommon_titles,\"Title\"] = \"Other\"\n",
    "titanic_df['Title'] = titanic_df['Title'].astype(\"category\")"
   ]
  },
  {
   "cell_type": "markdown",
   "metadata": {},
   "source": [
    "Finally we check if we missed any missing value."
   ]
  },
  {
   "cell_type": "code",
   "execution_count": null,
   "metadata": {},
   "outputs": [],
   "source": [
    "titanic_df.isnull().any().any()"
   ]
  },
  {
   "cell_type": "markdown",
   "metadata": {},
   "source": [
    "### Feature Engineering"
   ]
  },
  {
   "cell_type": "markdown",
   "metadata": {},
   "source": [
    "*Feature engineering is the process of using domain knowledge to extract features from raw data via data mining techniques.*\n",
    "\n",
    "Now that we have explored many of the features of the dataset, we are going to create new features that may prove useful to solve the problem. For example, categorize the age or make a new variable with the sum of the family members."
   ]
  },
  {
   "cell_type": "code",
   "execution_count": null,
   "metadata": {},
   "outputs": [],
   "source": [
    "titanic_df[\"Family size\"] = titanic_df[\"Number of parents/children\"] + titanic_df[\"Number of siblings/spouses\"] + 1 # To count the passenger"
   ]
  },
  {
   "cell_type": "code",
   "execution_count": null,
   "metadata": {},
   "outputs": [],
   "source": [
    "titanic_df[\"Discrete age\"] = pd.cut(titanic_df[\"Age\"],bins=range(0,85,5))"
   ]
  },
  {
   "cell_type": "code",
   "execution_count": null,
   "metadata": {},
   "outputs": [],
   "source": [
    "def categorizeAge(age):\n",
    "    if age < 13:\n",
    "        return \"Child\"\n",
    "    if age < 24:\n",
    "        return \"Youth\"\n",
    "    if age < 64:\n",
    "        return \"Adult\"\n",
    "    return \"Senior\""
   ]
  },
  {
   "cell_type": "code",
   "execution_count": null,
   "metadata": {},
   "outputs": [],
   "source": [
    "titanic_df[\"Categorized age\"] = titanic_df[\"Age\"].apply(categorizeAge)\n",
    "titanic_df[\"Categorized age\"] = titanic_df[\"Categorized age\"].astype(\"category\")"
   ]
  },
  {
   "cell_type": "code",
   "execution_count": null,
   "metadata": {},
   "outputs": [],
   "source": [
    "titanic_df.head(3)"
   ]
  },
  {
   "cell_type": "markdown",
   "metadata": {},
   "source": [
    "As the price of the ticket was given as a group, we can create a new variable which takes into account the individual price."
   ]
  },
  {
   "cell_type": "code",
   "execution_count": null,
   "metadata": {},
   "outputs": [],
   "source": [
    "ticket_values = titanic_df[\"Ticket\"].value_counts()\n",
    "def ticketCount(ticket):\n",
    "    return ticket_values[ticket]"
   ]
  },
  {
   "cell_type": "code",
   "execution_count": null,
   "metadata": {},
   "outputs": [],
   "source": [
    "titanic_df[\"Ticket size\"] = titanic_df[\"Ticket\"].apply(ticketCount)"
   ]
  },
  {
   "cell_type": "code",
   "execution_count": null,
   "metadata": {},
   "outputs": [],
   "source": [
    "titanic_df[\"Individual fare\"] = titanic_df[\"Fare\"] / titanic_df[\"Ticket size\"]"
   ]
  },
  {
   "cell_type": "code",
   "execution_count": null,
   "metadata": {},
   "outputs": [],
   "source": [
    "titanic_df.tail(3)"
   ]
  },
  {
   "cell_type": "markdown",
   "metadata": {},
   "source": [
    "### Data conversions"
   ]
  },
  {
   "cell_type": "markdown",
   "metadata": {},
   "source": [
    "Here we change some of the texts the data has, so that they are more meaningful."
   ]
  },
  {
   "cell_type": "code",
   "execution_count": null,
   "metadata": {},
   "outputs": [],
   "source": [
    "new_economic_status_names = {1:\"Upper\",2:\"Middle\",3:\"Lower\"}\n",
    "titanic_df[\"Economic status\"].cat.rename_categories(new_economic_status_names,inplace=True)"
   ]
  },
  {
   "cell_type": "code",
   "execution_count": null,
   "metadata": {},
   "outputs": [],
   "source": [
    "new_port_names = {\"C\":\"Cherbourg\",\"Q\":\"Queenstown\",\"S\":\"Southhampton\"}\n",
    "titanic_df[\"Embarked\"].cat.rename_categories(new_port_names,inplace = True)"
   ]
  },
  {
   "cell_type": "code",
   "execution_count": null,
   "metadata": {},
   "outputs": [],
   "source": [
    "new_sex = {\"male\":\"Male\",\"female\":\"Female\"}\n",
    "titanic_df[\"Sex\"].cat.rename_categories(new_sex,inplace = True)"
   ]
  },
  {
   "cell_type": "markdown",
   "metadata": {},
   "source": [
    "### Reordering columns"
   ]
  },
  {
   "cell_type": "markdown",
   "metadata": {},
   "source": [
    "Finally, we order the dataset in a more relevant way."
   ]
  },
  {
   "cell_type": "code",
   "execution_count": null,
   "metadata": {},
   "outputs": [],
   "source": [
    "personal_info = [\"Surname\",\"Title\",\"Name\",\"Sex\",\"Age\",\"Completed age\",\"Discrete age\",\"Categorized age\"]\n",
    "economic_status = [\"Economic status\",\"Fare\",\"Individual fare\"]\n",
    "family = [\"Number of siblings/spouses\",\"Number of parents/children\",\"Family size\"]\n",
    "journey = [\"Cabin\",\"Embarked\",\"Ticket\",\"Survived\"]\n",
    "new_order = personal_info + economic_status + family + journey\n",
    "titanic_df = titanic_df.reindex(columns = new_order)"
   ]
  },
  {
   "cell_type": "markdown",
   "metadata": {},
   "source": [
    "### Dataset after handling it"
   ]
  },
  {
   "cell_type": "code",
   "execution_count": null,
   "metadata": {},
   "outputs": [],
   "source": [
    "titanic_df.info()"
   ]
  },
  {
   "cell_type": "code",
   "execution_count": null,
   "metadata": {},
   "outputs": [],
   "source": [
    "titanic_df.head()"
   ]
  },
  {
   "cell_type": "markdown",
   "metadata": {},
   "source": [
    "## Exploratory Data Analysis"
   ]
  },
  {
   "cell_type": "markdown",
   "metadata": {},
   "source": [
    "First, let's start by asking some simple questions that will get us closer to the question that matters. What sorts of people were more likely to survive?\n",
    "* How many survived?\n",
    "* How much does the sex determine the chances of survival?\n",
    "* What about the age?\n",
    "* Does the economic status helps to determine it?"
   ]
  },
  {
   "cell_type": "markdown",
   "metadata": {},
   "source": [
    "### How many survived the disaster?"
   ]
  },
  {
   "cell_type": "code",
   "execution_count": null,
   "metadata": {},
   "outputs": [],
   "source": [
    "survival_values = titanic_df['Survived'].value_counts()\n",
    "names = ['Died',\"Survived\"]\n",
    "plt.figure(figsize=(10, 5), dpi=100)\n",
    " \n",
    "plt.subplot2grid(shape=(1,2),loc=(0,0))\n",
    "plt.bar(x=survival_values.index,height=survival_values.values,color=['lightcoral', 'lightgreen'])\n",
    "plt.xticks(survival_values.index,names)\n",
    "plt.title(\"Amount of people that survived\")\n",
    "\n",
    "plt.subplot2grid(shape=(1,2),loc=(0,1))\n",
    "plt.pie(survival_values, labels=names,colors=['lightcoral', 'lightgreen'], autopct='%1.0f%%')\n",
    "plt.title(\"Proportion of people that survived\")\n",
    "\n",
    "plt.suptitle('Survival numbers')\n",
    "plt.show()"
   ]
  },
  {
   "cell_type": "markdown",
   "metadata": {},
   "source": [
    "We can see that approximately 40% of the passengers survived."
   ]
  },
  {
   "cell_type": "markdown",
   "metadata": {},
   "source": [
    "### How much does the sex affect the chances of survival?"
   ]
  },
  {
   "cell_type": "markdown",
   "metadata": {},
   "source": [
    "Let's begin by seeing the proportions of the passengers."
   ]
  },
  {
   "cell_type": "code",
   "execution_count": null,
   "metadata": {},
   "outputs": [],
   "source": [
    "sex_proportions = titanic_df[\"Sex\"].value_counts()\n",
    "circle=plt.Circle( (0,0), 0.7, color='white')\n",
    "plt.figure(dpi=80)\n",
    "plt.pie(sex_proportions.values, labels=sex_proportions.index, colors=['goldenrod','salmon'],autopct='%1.0f%%')\n",
    "p=plt.gcf()\n",
    "p.gca().add_artist(circle)\n",
    "plt.suptitle('Proportion of passengers')\n",
    "plt.show()"
   ]
  },
  {
   "cell_type": "markdown",
   "metadata": {},
   "source": [
    "Now let's see the survival rate."
   ]
  },
  {
   "cell_type": "code",
   "execution_count": null,
   "metadata": {},
   "outputs": [],
   "source": [
    "survival_by_sex = titanic_df.groupby(by=\"Sex\")[\"Survived\"].agg(\"mean\")\n",
    "survival_by_sex"
   ]
  },
  {
   "cell_type": "code",
   "execution_count": null,
   "metadata": {},
   "outputs": [],
   "source": [
    "plt.figure(figsize=(4, 4), dpi=100)\n",
    "plt.bar(x=survival_by_sex.index,height=survival_by_sex.values,color=['palevioletred', 'cadetblue'])\n",
    "plt.ylim(top=1)\n",
    "plt.title(\"Proportions of people that survived by sex\")"
   ]
  },
  {
   "cell_type": "markdown",
   "metadata": {},
   "source": [
    "We can clearly see that women proportionally had a greater survival rate than men."
   ]
  },
  {
   "cell_type": "markdown",
   "metadata": {},
   "source": [
    "### What about the age?"
   ]
  },
  {
   "cell_type": "markdown",
   "metadata": {},
   "source": [
    "Can we see a pattern by exploring the age? Let's try to see if the children were more likely to survive."
   ]
  },
  {
   "cell_type": "code",
   "execution_count": null,
   "metadata": {},
   "outputs": [],
   "source": [
    "sns.distplot( a=titanic_df[\"Age\"], hist=True, kde=False, rug=False )\n",
    "plt.title(\"Age distribution\")\n",
    "plt.show()"
   ]
  },
  {
   "cell_type": "markdown",
   "metadata": {},
   "source": [
    "We can see that the main group of people that was on the ship were adults, followed by children and then by old people."
   ]
  },
  {
   "cell_type": "code",
   "execution_count": null,
   "metadata": {},
   "outputs": [],
   "source": [
    "plt.figure(figsize=(15, 5), dpi=100)\n",
    "plt.subplot2grid(shape=(1,2),loc=(0,0))\n",
    "g = sns.barplot('Discrete age','Survived', data=titanic_df)\n",
    "g.tick_params('x',labelrotation=35)\n",
    "plt.title(\"Survival by grouped ages\")\n",
    "    \n",
    "plt.subplot2grid(shape=(1,2),loc=(0,1))\n",
    "sns.violinplot(x=titanic_df[\"Survived\"], y=titanic_df[\"Age\"])\n",
    "plt.title(\"Age distribution and survival\")\n",
    " \n",
    "plt.show()"
   ]
  },
  {
   "cell_type": "markdown",
   "metadata": {},
   "source": [
    "Here we can see that children were more likely to survive in both graphs."
   ]
  },
  {
   "cell_type": "code",
   "execution_count": null,
   "metadata": {},
   "outputs": [],
   "source": [
    "children = titanic_df[\"Age\"] < 13\n",
    "survived = titanic_df[\"Survived\"] == 1\n",
    "survived_age = titanic_df.loc[survived & children,\"Age\"]\n",
    "died_age = titanic_df.loc[(~survived) & children,\"Age\"]"
   ]
  },
  {
   "cell_type": "code",
   "execution_count": null,
   "metadata": {},
   "outputs": [],
   "source": [
    "survived_age.count()"
   ]
  },
  {
   "cell_type": "code",
   "execution_count": null,
   "metadata": {},
   "outputs": [],
   "source": [
    "died_age.count()"
   ]
  },
  {
   "cell_type": "markdown",
   "metadata": {},
   "source": [
    "### Does the economic status helps to determine it?"
   ]
  },
  {
   "cell_type": "code",
   "execution_count": null,
   "metadata": {},
   "outputs": [],
   "source": [
    "total_class_members = titanic_df[\"Economic status\"].value_counts(normalize=True).round(2)"
   ]
  },
  {
   "cell_type": "code",
   "execution_count": null,
   "metadata": {},
   "outputs": [],
   "source": [
    "survival_by_status = titanic_df.groupby(by=\"Economic status\")[\"Survived\"].value_counts(normalize=True).round(2)\n",
    "survival_by_status = survival_by_status.unstack().reset_index()\n",
    "survival_by_status.index = survival_by_status[\"Economic status\"]\n",
    "survival_by_status = survival_by_status.drop(columns=\"Economic status\")"
   ]
  },
  {
   "cell_type": "code",
   "execution_count": null,
   "metadata": {},
   "outputs": [],
   "source": [
    "renamed_columns = {0:\"Died\",1:\"Survived\"}\n",
    "survival_by_status = survival_by_status.rename(columns=renamed_columns)\n",
    "survival_by_status.columns.name = None\n",
    "survival_by_status"
   ]
  },
  {
   "cell_type": "code",
   "execution_count": null,
   "metadata": {},
   "outputs": [],
   "source": [
    "plt.figure(figsize=(10, 5), dpi=100)\n",
    " \n",
    "plt.subplot2grid(shape=(1,2),loc=(0,0))\n",
    "squarify.plot(sizes=total_class_members,value=total_class_members, label=total_class_members.index, alpha=.8,color=['sienna', 'gold','lawngreen'])\n",
    "plt.axis('off')  \n",
    "plt.title(\"% of people according to economic status\")   \n",
    "    \n",
    "plt.subplot2grid(shape=(1,2),loc=(0,1))\n",
    "plt.bar(x=survival_by_status.index,height=survival_by_status[\"Survived\"].values,color=['gold', 'lawngreen','sienna'])\n",
    "plt.ylim(top=1)\n",
    "plt.title(\"% of people that survived by class\")\n",
    "\n",
    "plt.show()"
   ]
  },
  {
   "cell_type": "markdown",
   "metadata": {},
   "source": [
    "On the graphs we can see that people from lower class were more likely to die than from upper class."
   ]
  },
  {
   "cell_type": "markdown",
   "metadata": {},
   "source": [
    "### What happened to the families?"
   ]
  },
  {
   "cell_type": "markdown",
   "metadata": {},
   "source": [
    "Here we will see if people with families had more chances of survival.\n",
    "\n",
    "The dataset includes 2 attributes which count the number of members of each group.\n",
    "* Number of siblings/spouses (sibsp):\n",
    "    * Sibling = brother, sister, stepbrother, stepsister\n",
    "    * Spouse = husband, wife (mistresses and fiancés were ignored)\n",
    "\n",
    "* Number of parents/children (parch):\n",
    "    * Parent = mother, father\n",
    "    * Child = daughter, son, stepdaughter, stepson\n",
    "    \n",
    "*Note: Some children travelled only with a nanny, therefore parch=0 for them.*"
   ]
  },
  {
   "cell_type": "code",
   "execution_count": null,
   "metadata": {},
   "outputs": [],
   "source": [
    "titanic_df[\"Number of siblings/spouses\"].value_counts()"
   ]
  },
  {
   "cell_type": "code",
   "execution_count": null,
   "metadata": {},
   "outputs": [],
   "source": [
    "titanic_df[\"Number of parents/children\"].value_counts()"
   ]
  },
  {
   "cell_type": "markdown",
   "metadata": {},
   "source": [
    "We can see that the majority of the passengers traveled alone."
   ]
  },
  {
   "cell_type": "code",
   "execution_count": null,
   "metadata": {},
   "outputs": [],
   "source": [
    "new_name = {\"Number of siblings/spouses\":\"Total\"}\n",
    "sibsp = titanic_df.groupby(by=\"Number of siblings/spouses\")[\"Survived\"].value_counts(normalize=True).to_frame().unstack()\n",
    "sibsp = sibsp.fillna(0)\n",
    "sibsp.columns = sibsp.columns.get_level_values(1)\n",
    "sibsp.columns.name = None\n",
    "sibsp = sibsp.rename(columns={0:\"Died\",1:\"Survived\"}) \n",
    "sibsp"
   ]
  },
  {
   "cell_type": "code",
   "execution_count": null,
   "metadata": {},
   "outputs": [],
   "source": []
  },
  {
   "cell_type": "code",
   "execution_count": null,
   "metadata": {},
   "outputs": [],
   "source": [
    "bar_width = 0.3\n",
    "start_first_bar = sibsp.index-bar_width/2\n",
    "start_second_bar = sibsp.index+bar_width/2\n",
    "\n",
    "plt.figure(figsize=(10, 4), dpi=100)\n",
    "plt.bar(start_first_bar, sibsp[\"Died\"], width = bar_width, color = 'lightcoral', edgecolor = 'black', label='Died')\n",
    "plt.bar(start_second_bar, sibsp[\"Survived\"], width = bar_width, color = 'lightgreen', edgecolor = 'black',  label='Survived')\n",
    "plt.xticks(sibsp.index)\n",
    "plt.ylabel('%')\n",
    "plt.legend()\n",
    "plt.title(\"Survival by number of siblings/spouses\")\n",
    "plt.show()"
   ]
  },
  {
   "cell_type": "markdown",
   "metadata": {},
   "source": [
    "In the graph we can see that those with one or two siblings/spouses seem more likely to survive. Let's see now with the parents and children."
   ]
  },
  {
   "cell_type": "code",
   "execution_count": null,
   "metadata": {},
   "outputs": [],
   "source": [
    "new_name = {\"Number of parents/children\":\"Total\"}\n",
    "parch = titanic_df.groupby(by=\"Number of parents/children\")[\"Survived\"].value_counts(normalize=True).to_frame().unstack()\n",
    "parch = parch.fillna(0)\n",
    "parch.columns = parch.columns.get_level_values(1)\n",
    "parch.columns.name = None\n",
    "parch = parch.rename(columns={0:\"Died\",1:\"Survived\"}) \n",
    "parch"
   ]
  },
  {
   "cell_type": "code",
   "execution_count": null,
   "metadata": {},
   "outputs": [],
   "source": [
    "bar_width = 0.3\n",
    "start_first_bar = parch.index-bar_width/2\n",
    "start_second_bar = parch.index+bar_width/2\n",
    "\n",
    "plt.figure(figsize=(10, 4), dpi=100)\n",
    "plt.bar(start_first_bar, parch[\"Died\"], width = bar_width, color = 'lightcoral', edgecolor = 'black', label='Died')\n",
    "plt.bar(start_second_bar, parch[\"Survived\"], width = bar_width, color = 'lightgreen', edgecolor = 'black',  label='Survived')\n",
    "plt.xticks(parch.index)\n",
    "plt.ylabel('%')\n",
    "plt.legend()\n",
    "plt.title(\"Survival by number of parents/children\")\n",
    "plt.show()"
   ]
  },
  {
   "cell_type": "markdown",
   "metadata": {},
   "source": [
    "In this case we can see again that those with a family were more likely to survive than those that wet alone."
   ]
  },
  {
   "cell_type": "markdown",
   "metadata": {},
   "source": [
    "### Is there any relationship with the embarkation port?"
   ]
  },
  {
   "cell_type": "markdown",
   "metadata": {},
   "source": [
    "In this section we will see if people that embarked in a certain port survived more than from the others."
   ]
  },
  {
   "cell_type": "code",
   "execution_count": null,
   "metadata": {},
   "outputs": [],
   "source": [
    "embark_ports = titanic_df[\"Embarked\"].value_counts(normalize=True).round(2)"
   ]
  },
  {
   "cell_type": "code",
   "execution_count": null,
   "metadata": {},
   "outputs": [],
   "source": [
    "survival_by_ports = titanic_df.groupby(by=\"Embarked\")[\"Survived\"].agg(\"mean\")"
   ]
  },
  {
   "cell_type": "code",
   "execution_count": null,
   "metadata": {},
   "outputs": [],
   "source": [
    "plt.figure(figsize=(10, 4), dpi=100)\n",
    "plt.subplot2grid(shape=(1,2),loc=(0,0))\n",
    "squarify.plot(sizes=embark_ports,value=embark_ports, label=embark_ports.index, alpha=.8,color=['darkslategrey', 'slategrey','cornflowerblue'])\n",
    "plt.axis('off')  \n",
    "plt.title(\"% of people from each port\")   \n",
    "\n",
    "plt.subplot2grid(shape=(1,2),loc=(0,1))\n",
    "plt.bar(survival_by_ports.index, survival_by_ports.values, color = ['slategrey', 'cornflowerblue','darkslategrey'], alpha = 0.6)\n",
    "plt.ylim(top=1)\n",
    "plt.ylabel('%')\n",
    "plt.title(\"Survival by port of embarkation\")\n",
    "plt.show()"
   ]
  },
  {
   "cell_type": "markdown",
   "metadata": {},
   "source": [
    "We can see that those that embarked in Cherbourg had slightly better chances, though we have to take into account that Southhampton was the port from which most of the people embarked."
   ]
  },
  {
   "cell_type": "markdown",
   "metadata": {},
   "source": [
    "### Is there any relationship between age/fare and the survival?"
   ]
  },
  {
   "cell_type": "markdown",
   "metadata": {},
   "source": [
    "Now that we have seen each individual variable in its own, let's start to look for correlations between them."
   ]
  },
  {
   "cell_type": "code",
   "execution_count": null,
   "metadata": {},
   "outputs": [],
   "source": [
    "sns.lmplot( x='Age', y='Fare',data=titanic_df,fit_reg=False, hue='Survived', legend=True,height=7,aspect=1.5,markers=[\"x\",\"o\"],palette=['red','green'])\n",
    "plt.title(\"Age/Fare with survival\")\n",
    "plt.show()"
   ]
  },
  {
   "cell_type": "markdown",
   "metadata": {},
   "source": [
    "In this graph we can clearly see that those that paid a higher fare likely survived. Let's see if we can get a better view by making a graph for each sex."
   ]
  },
  {
   "cell_type": "code",
   "execution_count": null,
   "metadata": {},
   "outputs": [],
   "source": [
    "columns = [\"Age\",\"Fare\",\"Survived\"]\n",
    "is_male = titanic_df[\"Sex\"] == \"Male\"\n",
    "fare_limit = titanic_df[\"Fare\"] < 300 # So that we can see better the lower values\n",
    "age_fare_male = titanic_df.loc[is_male & fare_limit,columns]\n",
    "age_fare_female = titanic_df.loc[(~is_male) & fare_limit,columns]"
   ]
  },
  {
   "cell_type": "code",
   "execution_count": null,
   "metadata": {},
   "outputs": [],
   "source": [
    "sns.lmplot( x='Age', y='Fare',data=age_fare_male,fit_reg=False, hue='Survived', legend=True,height=7,aspect=1.5,markers=[\"x\",\"o\"],palette=['red','green'])\n",
    "plt.title(\"Age/Fare with survival, male\")\n",
    "plt.show()"
   ]
  },
  {
   "cell_type": "code",
   "execution_count": null,
   "metadata": {},
   "outputs": [],
   "source": [
    "sns.lmplot( x='Age', y='Fare',data=age_fare_female,fit_reg=False, hue='Survived', legend=True,height=7,aspect=1.5,markers=[\"x\",\"o\"],palette=['red','green'])\n",
    "plt.title(\"Age/Fare with survival, female\")\n",
    "plt.show()"
   ]
  },
  {
   "cell_type": "markdown",
   "metadata": {},
   "source": [
    "This graph further confirms what we saw before, women more likely survived. In addition, we can see that also with the children."
   ]
  },
  {
   "cell_type": "markdown",
   "metadata": {},
   "source": [
    "Let's try to draw the boundaries of the socio-economic status by looking at different numerical values."
   ]
  },
  {
   "cell_type": "code",
   "execution_count": null,
   "metadata": {},
   "outputs": [],
   "source": [
    "titanic_df.groupby(by=\"Economic status\")[\"Fare\"].agg([\"min\",\"mean\",\"max\",\"std\"]).round(2)"
   ]
  },
  {
   "cell_type": "markdown",
   "metadata": {},
   "source": [
    "Seeing that the minimum fare was 0 for all economic status, I decided to take a look at these particular cases. "
   ]
  },
  {
   "cell_type": "code",
   "execution_count": null,
   "metadata": {},
   "outputs": [],
   "source": [
    "titanic_df.loc[titanic_df[\"Fare\"] == 0]"
   ]
  },
  {
   "cell_type": "markdown",
   "metadata": {},
   "source": [
    "By investigating a little, it turned out that these people boarded the ship without paying a fare for different reasons. For example, Andrews, Mr. Thomas Jr. was the naval architect for the ship, while other passengers were part of the [\"guarantee group\"](https://www.encyclopedia-titanica.org/titanic-guarantee-group/).\n",
    "\n",
    "\n",
    "Let's continue without taking into account these cases."
   ]
  },
  {
   "cell_type": "code",
   "execution_count": null,
   "metadata": {},
   "outputs": [],
   "source": [
    "passengers_with_fare = titanic_df.loc[titanic_df[\"Fare\"]>0]\n",
    "fare_range_by_status = passengers_with_fare.groupby(by=\"Economic status\")[\"Fare\"].agg([\"min\",\"mean\",\"max\",\"std\"]).round(2)\n",
    "fare_range_by_status"
   ]
  },
  {
   "cell_type": "markdown",
   "metadata": {},
   "source": [
    "By taking into account the mean and standard deviation, we can see that some groups overlap between each other in parts, thus blurring the boundaries. Of course here we have to take into account that the fare in this case includes all of the fares from one family."
   ]
  },
  {
   "cell_type": "code",
   "execution_count": null,
   "metadata": {},
   "outputs": [],
   "source": [
    "min_fare_std = fare_range_by_status[\"mean\"] - fare_range_by_status[\"std\"]\n",
    "max_fare_std = fare_range_by_status[\"mean\"] + fare_range_by_status[\"std\"]\n",
    "colors = ['gold','lawngreen','sienna']\n",
    "plt.figure(figsize=(10, 3), dpi=120)\n",
    "plt.hlines(y=fare_range_by_status.index, xmin=min_fare_std, xmax=max_fare_std, color=colors, alpha=1)\n",
    "plt.scatter(min_fare_std, fare_range_by_status.index, color=colors, alpha=1, label='Min fare (std)')\n",
    "plt.scatter(max_fare_std, fare_range_by_status.index, color=colors, alpha=1 , linewidths=1,edgecolor=\"black\",label='Max fare (std)')\n",
    "plt.legend()\n",
    " \n",
    "plt.show()"
   ]
  },
  {
   "cell_type": "markdown",
   "metadata": {},
   "source": [
    "### How is the survival distributed by dividing sex and the socio-economic status?"
   ]
  },
  {
   "cell_type": "code",
   "execution_count": null,
   "metadata": {},
   "outputs": [],
   "source": [
    "female = titanic_df[\"Sex\"] == \"Female\"\n",
    "female_passengers = titanic_df.loc[female]\n",
    "survival_female_class = female_passengers.groupby(by=\"Economic status\")[\"Survived\"].value_counts(normalize=True).round(2).unstack()\n",
    "survival_female_class = survival_female_class.rename(columns={0:\"Died\",1:\"Survived\"})\n",
    "survival_female_class.columns.name = None\n",
    "survival_female_class"
   ]
  },
  {
   "cell_type": "code",
   "execution_count": null,
   "metadata": {},
   "outputs": [],
   "source": [
    "male_passengers = titanic_df.loc[~female]\n",
    "survival_male_class = male_passengers.groupby(by=\"Economic status\")[\"Survived\"].value_counts(normalize=True).round(2).unstack()\n",
    "survival_male_class = survival_male_class.rename(columns={0:\"Died\",1:\"Survived\"})\n",
    "survival_male_class.columns.name = None\n",
    "survival_male_class"
   ]
  },
  {
   "cell_type": "code",
   "execution_count": null,
   "metadata": {},
   "outputs": [],
   "source": [
    "plt.figure(figsize=(10, 5), dpi=100)\n",
    " \n",
    "plt.subplot2grid(shape=(1,2),loc=(0,0))\n",
    "h1 = sns.heatmap(survival_female_class,annot=True)\n",
    "plt.title(\"Female survival divided by class\")\n",
    "    \n",
    "plt.subplot2grid(shape=(1,2),loc=(0,1))\n",
    "h2 = sns.heatmap(survival_male_class,annot=True)\n",
    "plt.title(\"Male survival divided by class\")\n",
    "\n",
    "plt.show()"
   ]
  },
  {
   "cell_type": "markdown",
   "metadata": {},
   "source": [
    "Here we can clearly see that women from the middle and upper status have way higher chances of survival, while for those of lower class the chances drop by around 40%.\n",
    "\n",
    "Regarding the men, we can see that those from upper class have slightly better chances than those in middle and lower classes."
   ]
  },
  {
   "cell_type": "markdown",
   "metadata": {},
   "source": [
    "### Expansion on the families"
   ]
  },
  {
   "cell_type": "markdown",
   "metadata": {},
   "source": [
    "Let's try to see if we can get anything new by viewing the sum of the number of siblings/spouses and parents/children."
   ]
  },
  {
   "cell_type": "code",
   "execution_count": null,
   "metadata": {},
   "outputs": [],
   "source": [
    "family_size = titanic_df[\"Family size\"].value_counts(normalize=True).round(2)\n",
    "colors=[\"tab:blue\",\"tab:orange\",\"tab:green\",\"tab:red\",\"tab:purple\",\"tab:brown\",\"tab:pink\",\"tab:gray\",\"tab:olive\"]\n",
    "plt.figure(figsize=(10, 4), dpi=100)\n",
    "plt.subplot2grid(shape=(1,2),loc=(0,0))\n",
    "squarify.plot(sizes=family_size,label=family_size.index,color=colors, alpha=.8)\n",
    "plt.axis('off')  \n",
    "plt.title(\"Family size\")   \n",
    "\n",
    "plt.subplot2grid(shape=(1,2),loc=(0,1))\n",
    "plt.bar(family_size.index, titanic_df.groupby(by=\"Family size\")[\"Survived\"].agg(\"mean\"), alpha = 0.6)\n",
    "plt.ylim(top=1)\n",
    "plt.xticks(ticks=family_size.index)\n",
    "plt.ylabel('%')\n",
    "plt.title(\"Survival by family size\")\n",
    "plt.show()"
   ]
  },
  {
   "cell_type": "markdown",
   "metadata": {},
   "source": [
    "Here we can see more clearly that families that have 2 to 4 members have higher survival chances than bigger families or passengers alone."
   ]
  },
  {
   "cell_type": "code",
   "execution_count": null,
   "metadata": {},
   "outputs": [],
   "source": [
    "table = pd.crosstab(titanic_df['Family size'], titanic_df['Sex'])\n",
    "print('\\n', table)\n",
    "table_fractions = table.div(table.sum(1).astype(float), axis=0)\n",
    "g = table_fractions.plot(kind=\"bar\", stacked=True)\n",
    "plt.xticks(rotation=0)\n",
    "plt.xlabel('Family size', weight='bold')\n",
    "plt.ylabel('%')\n",
    "plt.tight_layout()\n",
    "leg = plt.legend(title='Sex', loc=9, bbox_to_anchor=(1.05, 1.0))"
   ]
  },
  {
   "cell_type": "markdown",
   "metadata": {},
   "source": [
    "Here we can see that the proportion of males is greatest for family size 1 (males traveling alone), and drops for family size of 2, 3, and 4 members (more females). This can explain the survival chances of those groups."
   ]
  },
  {
   "cell_type": "markdown",
   "metadata": {},
   "source": [
    "## Summary of the EDA\n",
    "    \n",
    "* Women are more likely to have survived.\n",
    "* Many of the children survived.\n",
    "* Families (2 to 4 members) have better chances of survival.\n",
    "* There are clear relationships between sex, gender, and socio-economic status."
   ]
  },
  {
   "cell_type": "markdown",
   "metadata": {},
   "source": [
    "## Models"
   ]
  },
  {
   "cell_type": "code",
   "execution_count": null,
   "metadata": {},
   "outputs": [],
   "source": [
    "y = np.array(titanic_df[\"Survived\"]).ravel()"
   ]
  },
  {
   "cell_type": "code",
   "execution_count": null,
   "metadata": {},
   "outputs": [],
   "source": [
    "titanic_df.columns"
   ]
  },
  {
   "cell_type": "code",
   "execution_count": null,
   "metadata": {},
   "outputs": [],
   "source": [
    "best_model = None"
   ]
  },
  {
   "cell_type": "code",
   "execution_count": null,
   "metadata": {},
   "outputs": [],
   "source": [
    "subset_categorical_columns = ['Sex','Categorized age','Economic status','Embarked']"
   ]
  },
  {
   "cell_type": "code",
   "execution_count": null,
   "metadata": {},
   "outputs": [],
   "source": [
    "subset_numerical_columns = ['Age','Fare','Family size']"
   ]
  },
  {
   "cell_type": "markdown",
   "metadata": {},
   "source": [
    "### KNN"
   ]
  },
  {
   "cell_type": "code",
   "execution_count": null,
   "metadata": {},
   "outputs": [],
   "source": [
    "params = {\n",
    "    'n_neighbors':[2,3,4,5,6,7,8,9,10,15,20,25,30],\n",
    "    'weights':['uniform', 'distance'],\n",
    "    'metric':['minkowski','cosine','chebyshev','correlation']\n",
    "}"
   ]
  },
  {
   "cell_type": "code",
   "execution_count": null,
   "metadata": {},
   "outputs": [],
   "source": [
    "X = encodeDataset(titanic_df,subset_categorical_columns,subset_numerical_columns)"
   ]
  },
  {
   "cell_type": "code",
   "execution_count": null,
   "metadata": {},
   "outputs": [],
   "source": [
    "X_train, X_test, y_train, y_test = train_test_split(X, y, test_size=0.2, random_state=0)"
   ]
  },
  {
   "cell_type": "code",
   "execution_count": null,
   "metadata": {},
   "outputs": [],
   "source": [
    "knn = GridSearchCV(KNeighborsClassifier(), params, scoring = 'accuracy', n_jobs = -1)"
   ]
  },
  {
   "cell_type": "code",
   "execution_count": null,
   "metadata": {},
   "outputs": [],
   "source": [
    "knn.fit(X_train, y_train)"
   ]
  },
  {
   "cell_type": "code",
   "execution_count": null,
   "metadata": {},
   "outputs": [],
   "source": [
    "y_pred = knn.predict(X_test)"
   ]
  },
  {
   "cell_type": "code",
   "execution_count": null,
   "metadata": {},
   "outputs": [],
   "source": [
    "knn.best_params_"
   ]
  },
  {
   "cell_type": "code",
   "execution_count": null,
   "metadata": {},
   "outputs": [],
   "source": [
    "print(classification_report(y_pred,y_test))"
   ]
  },
  {
   "cell_type": "code",
   "execution_count": null,
   "metadata": {},
   "outputs": [],
   "source": [
    "best_model = knn"
   ]
  },
  {
   "cell_type": "markdown",
   "metadata": {},
   "source": [
    "### SVM"
   ]
  },
  {
   "cell_type": "code",
   "execution_count": null,
   "metadata": {},
   "outputs": [],
   "source": [
    "params = {\n",
    "    'C':[0.01,0.1,0.5,1,5,10,15,20,25,30],\n",
    "    'kernel':[\"poly\", \"rbf\", \"linear\"],\n",
    "}"
   ]
  },
  {
   "cell_type": "code",
   "execution_count": null,
   "metadata": {},
   "outputs": [],
   "source": [
    "X = encodeAndNormalizeData(titanic_df,subset_categorical_columns,subset_numerical_columns)"
   ]
  },
  {
   "cell_type": "code",
   "execution_count": null,
   "metadata": {},
   "outputs": [],
   "source": [
    "X_train, X_test, y_train, y_test = train_test_split(X, y, test_size=0.2, random_state=0)"
   ]
  },
  {
   "cell_type": "code",
   "execution_count": null,
   "metadata": {},
   "outputs": [],
   "source": [
    "svm = GridSearchCV(SVC(), params, scoring = 'accuracy', n_jobs = -1)"
   ]
  },
  {
   "cell_type": "code",
   "execution_count": null,
   "metadata": {},
   "outputs": [],
   "source": [
    "svm.fit(X_train, y_train)"
   ]
  },
  {
   "cell_type": "code",
   "execution_count": null,
   "metadata": {},
   "outputs": [],
   "source": [
    "y_pred = svm.predict(X_test)"
   ]
  },
  {
   "cell_type": "code",
   "execution_count": null,
   "metadata": {},
   "outputs": [],
   "source": [
    "svm.best_params_"
   ]
  },
  {
   "cell_type": "code",
   "execution_count": null,
   "metadata": {},
   "outputs": [],
   "source": [
    "print(classification_report(y_pred,y_test))"
   ]
  },
  {
   "cell_type": "code",
   "execution_count": null,
   "metadata": {},
   "outputs": [],
   "source": [
    "best_model = svm"
   ]
  },
  {
   "cell_type": "markdown",
   "metadata": {},
   "source": [
    "### Decision Tree Classifier"
   ]
  },
  {
   "cell_type": "code",
   "execution_count": null,
   "metadata": {},
   "outputs": [],
   "source": [
    "params = {\n",
    "    'criterion':['gini', 'entropy'],\n",
    "    'max_depth':[1,2,3,4,5,6,7,8,9,10],\n",
    "}"
   ]
  },
  {
   "cell_type": "code",
   "execution_count": null,
   "metadata": {},
   "outputs": [],
   "source": [
    "X = encodeDataset(titanic_df,subset_categorical_columns,subset_numerical_columns)"
   ]
  },
  {
   "cell_type": "code",
   "execution_count": null,
   "metadata": {},
   "outputs": [],
   "source": [
    "X_train, X_test, y_train, y_test = train_test_split(X, y, test_size=0.2, random_state=0)"
   ]
  },
  {
   "cell_type": "code",
   "execution_count": null,
   "metadata": {},
   "outputs": [],
   "source": [
    "dtc = GridSearchCV(DecisionTreeClassifier(), params, scoring = 'accuracy', n_jobs = -1)"
   ]
  },
  {
   "cell_type": "code",
   "execution_count": null,
   "metadata": {},
   "outputs": [],
   "source": [
    "dtc.fit(X_train, y_train)"
   ]
  },
  {
   "cell_type": "code",
   "execution_count": null,
   "metadata": {},
   "outputs": [],
   "source": [
    "y_pred = dtc.predict(X_test)"
   ]
  },
  {
   "cell_type": "code",
   "execution_count": null,
   "metadata": {},
   "outputs": [],
   "source": [
    "dtc.best_params_"
   ]
  },
  {
   "cell_type": "code",
   "execution_count": null,
   "metadata": {},
   "outputs": [],
   "source": [
    "print(classification_report(y_pred,y_test))"
   ]
  },
  {
   "cell_type": "markdown",
   "metadata": {},
   "source": [
    "### Logistic Regression"
   ]
  },
  {
   "cell_type": "code",
   "execution_count": null,
   "metadata": {},
   "outputs": [],
   "source": [
    "X = encodeAndNormalizeData(titanic_df,categorical_columns,numerical_columns)"
   ]
  },
  {
   "cell_type": "code",
   "execution_count": null,
   "metadata": {},
   "outputs": [],
   "source": [
    "params = {\n",
    "    'penalty':[\"l2\",\"none\", \"l1\", \"elasticnet\"],\n",
    "    'C':[0.001,0.01,0.1,0.2,0.5,0.7,1.0,1.5,2,2.5,3,3.5,4,5],\n",
    "}"
   ]
  },
  {
   "cell_type": "code",
   "execution_count": null,
   "metadata": {},
   "outputs": [],
   "source": [
    "X_train, X_test, y_train, y_test = train_test_split(X, y, test_size=0.2, random_state=0)"
   ]
  },
  {
   "cell_type": "code",
   "execution_count": null,
   "metadata": {},
   "outputs": [],
   "source": [
    "lr = GridSearchCV(LogisticRegression(solver='saga',random_state=0,max_iter=700), params, scoring = 'accuracy', n_jobs = -1)"
   ]
  },
  {
   "cell_type": "code",
   "execution_count": null,
   "metadata": {},
   "outputs": [],
   "source": [
    "lr.fit(X_train, y_train)"
   ]
  },
  {
   "cell_type": "code",
   "execution_count": null,
   "metadata": {},
   "outputs": [],
   "source": [
    "y_pred = lr.predict(X_test)"
   ]
  },
  {
   "cell_type": "code",
   "execution_count": null,
   "metadata": {},
   "outputs": [],
   "source": [
    "lr.best_params_"
   ]
  },
  {
   "cell_type": "code",
   "execution_count": null,
   "metadata": {},
   "outputs": [],
   "source": [
    "print(classification_report(y_pred,y_test))"
   ]
  },
  {
   "cell_type": "code",
   "execution_count": null,
   "metadata": {},
   "outputs": [],
   "source": [
    "best_model = lr"
   ]
  },
  {
   "cell_type": "markdown",
   "metadata": {},
   "source": [
    "### Naive Bayes"
   ]
  },
  {
   "cell_type": "code",
   "execution_count": null,
   "metadata": {},
   "outputs": [],
   "source": []
  },
  {
   "cell_type": "markdown",
   "metadata": {},
   "source": [
    "### Boosting"
   ]
  },
  {
   "cell_type": "code",
   "execution_count": null,
   "metadata": {},
   "outputs": [],
   "source": []
  },
  {
   "cell_type": "markdown",
   "metadata": {},
   "source": [
    "### Random Forest"
   ]
  },
  {
   "cell_type": "code",
   "execution_count": null,
   "metadata": {},
   "outputs": [],
   "source": []
  },
  {
   "cell_type": "markdown",
   "metadata": {},
   "source": [
    "### Voting"
   ]
  },
  {
   "cell_type": "code",
   "execution_count": null,
   "metadata": {},
   "outputs": [],
   "source": []
  },
  {
   "cell_type": "markdown",
   "metadata": {},
   "source": [
    "### Stacking"
   ]
  },
  {
   "cell_type": "code",
   "execution_count": null,
   "metadata": {},
   "outputs": [],
   "source": []
  },
  {
   "cell_type": "code",
   "execution_count": null,
   "metadata": {},
   "outputs": [],
   "source": []
  },
  {
   "cell_type": "code",
   "execution_count": null,
   "metadata": {},
   "outputs": [],
   "source": []
  },
  {
   "cell_type": "markdown",
   "metadata": {},
   "source": [
    "## References\n"
   ]
  },
  {
   "cell_type": "markdown",
   "metadata": {},
   "source": [
    "* [A Tour of Machine Learning in Python](https://rpmarchildon.com/ai-titanic/)\n",
    "* [Encyclopedia-titanica](https://www.encyclopedia-titanica.org/)."
   ]
  }
 ],
 "metadata": {
  "kernelspec": {
   "display_name": "Python 3",
   "language": "python",
   "name": "python3"
  },
  "language_info": {
   "codemirror_mode": {
    "name": "ipython",
    "version": 3
   },
   "file_extension": ".py",
   "mimetype": "text/x-python",
   "name": "python",
   "nbconvert_exporter": "python",
   "pygments_lexer": "ipython3",
   "version": "3.8.3"
  }
 },
 "nbformat": 4,
 "nbformat_minor": 4
}
